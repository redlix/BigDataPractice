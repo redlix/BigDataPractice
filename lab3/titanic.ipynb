{
  "cells": [
    {
      "cell_type": "code",
      "execution_count": 20,
      "metadata": {
        "pycharm": {
          "is_executing": false
        }
      },
      "outputs": [
        {
          "data": {
            "text/html": [
              "\u003cdiv\u003e\n",
              "\u003cstyle scoped\u003e\n",
              "    .dataframe tbody tr th:only-of-type {\n",
              "        vertical-align: middle;\n",
              "    }\n",
              "\n",
              "    .dataframe tbody tr th {\n",
              "        vertical-align: top;\n",
              "    }\n",
              "\n",
              "    .dataframe thead th {\n",
              "        text-align: right;\n",
              "    }\n",
              "\u003c/style\u003e\n",
              "\u003ctable border\u003d\"1\" class\u003d\"dataframe\"\u003e\n",
              "  \u003cthead\u003e\n",
              "    \u003ctr style\u003d\"text-align: right;\"\u003e\n",
              "      \u003cth\u003e\u003c/th\u003e\n",
              "      \u003cth\u003ePassengerId\u003c/th\u003e\n",
              "      \u003cth\u003eSurvived\u003c/th\u003e\n",
              "      \u003cth\u003ePclass\u003c/th\u003e\n",
              "      \u003cth\u003eName\u003c/th\u003e\n",
              "      \u003cth\u003eSex\u003c/th\u003e\n",
              "      \u003cth\u003eAge\u003c/th\u003e\n",
              "      \u003cth\u003eSibSp\u003c/th\u003e\n",
              "      \u003cth\u003eParch\u003c/th\u003e\n",
              "      \u003cth\u003eTicket\u003c/th\u003e\n",
              "      \u003cth\u003eFare\u003c/th\u003e\n",
              "      \u003cth\u003eCabin\u003c/th\u003e\n",
              "      \u003cth\u003eEmbarked\u003c/th\u003e\n",
              "    \u003c/tr\u003e\n",
              "  \u003c/thead\u003e\n",
              "  \u003ctbody\u003e\n",
              "    \u003ctr\u003e\n",
              "      \u003cth\u003e0\u003c/th\u003e\n",
              "      \u003ctd\u003e1\u003c/td\u003e\n",
              "      \u003ctd\u003e0\u003c/td\u003e\n",
              "      \u003ctd\u003e3\u003c/td\u003e\n",
              "      \u003ctd\u003eBraund, Mr. Owen Harris\u003c/td\u003e\n",
              "      \u003ctd\u003emale\u003c/td\u003e\n",
              "      \u003ctd\u003e22.0\u003c/td\u003e\n",
              "      \u003ctd\u003e1\u003c/td\u003e\n",
              "      \u003ctd\u003e0\u003c/td\u003e\n",
              "      \u003ctd\u003eA/5 21171\u003c/td\u003e\n",
              "      \u003ctd\u003e7.2500\u003c/td\u003e\n",
              "      \u003ctd\u003eNaN\u003c/td\u003e\n",
              "      \u003ctd\u003eS\u003c/td\u003e\n",
              "    \u003c/tr\u003e\n",
              "    \u003ctr\u003e\n",
              "      \u003cth\u003e1\u003c/th\u003e\n",
              "      \u003ctd\u003e2\u003c/td\u003e\n",
              "      \u003ctd\u003e1\u003c/td\u003e\n",
              "      \u003ctd\u003e1\u003c/td\u003e\n",
              "      \u003ctd\u003eCumings, Mrs. John Bradley (Florence Briggs Th...\u003c/td\u003e\n",
              "      \u003ctd\u003efemale\u003c/td\u003e\n",
              "      \u003ctd\u003e38.0\u003c/td\u003e\n",
              "      \u003ctd\u003e1\u003c/td\u003e\n",
              "      \u003ctd\u003e0\u003c/td\u003e\n",
              "      \u003ctd\u003ePC 17599\u003c/td\u003e\n",
              "      \u003ctd\u003e71.2833\u003c/td\u003e\n",
              "      \u003ctd\u003eC85\u003c/td\u003e\n",
              "      \u003ctd\u003eC\u003c/td\u003e\n",
              "    \u003c/tr\u003e\n",
              "    \u003ctr\u003e\n",
              "      \u003cth\u003e2\u003c/th\u003e\n",
              "      \u003ctd\u003e3\u003c/td\u003e\n",
              "      \u003ctd\u003e1\u003c/td\u003e\n",
              "      \u003ctd\u003e3\u003c/td\u003e\n",
              "      \u003ctd\u003eHeikkinen, Miss. Laina\u003c/td\u003e\n",
              "      \u003ctd\u003efemale\u003c/td\u003e\n",
              "      \u003ctd\u003e26.0\u003c/td\u003e\n",
              "      \u003ctd\u003e0\u003c/td\u003e\n",
              "      \u003ctd\u003e0\u003c/td\u003e\n",
              "      \u003ctd\u003eSTON/O2. 3101282\u003c/td\u003e\n",
              "      \u003ctd\u003e7.9250\u003c/td\u003e\n",
              "      \u003ctd\u003eNaN\u003c/td\u003e\n",
              "      \u003ctd\u003eS\u003c/td\u003e\n",
              "    \u003c/tr\u003e\n",
              "    \u003ctr\u003e\n",
              "      \u003cth\u003e3\u003c/th\u003e\n",
              "      \u003ctd\u003e4\u003c/td\u003e\n",
              "      \u003ctd\u003e1\u003c/td\u003e\n",
              "      \u003ctd\u003e1\u003c/td\u003e\n",
              "      \u003ctd\u003eFutrelle, Mrs. Jacques Heath (Lily May Peel)\u003c/td\u003e\n",
              "      \u003ctd\u003efemale\u003c/td\u003e\n",
              "      \u003ctd\u003e35.0\u003c/td\u003e\n",
              "      \u003ctd\u003e1\u003c/td\u003e\n",
              "      \u003ctd\u003e0\u003c/td\u003e\n",
              "      \u003ctd\u003e113803\u003c/td\u003e\n",
              "      \u003ctd\u003e53.1000\u003c/td\u003e\n",
              "      \u003ctd\u003eC123\u003c/td\u003e\n",
              "      \u003ctd\u003eS\u003c/td\u003e\n",
              "    \u003c/tr\u003e\n",
              "    \u003ctr\u003e\n",
              "      \u003cth\u003e4\u003c/th\u003e\n",
              "      \u003ctd\u003e5\u003c/td\u003e\n",
              "      \u003ctd\u003e0\u003c/td\u003e\n",
              "      \u003ctd\u003e3\u003c/td\u003e\n",
              "      \u003ctd\u003eAllen, Mr. William Henry\u003c/td\u003e\n",
              "      \u003ctd\u003emale\u003c/td\u003e\n",
              "      \u003ctd\u003e35.0\u003c/td\u003e\n",
              "      \u003ctd\u003e0\u003c/td\u003e\n",
              "      \u003ctd\u003e0\u003c/td\u003e\n",
              "      \u003ctd\u003e373450\u003c/td\u003e\n",
              "      \u003ctd\u003e8.0500\u003c/td\u003e\n",
              "      \u003ctd\u003eNaN\u003c/td\u003e\n",
              "      \u003ctd\u003eS\u003c/td\u003e\n",
              "    \u003c/tr\u003e\n",
              "  \u003c/tbody\u003e\n",
              "\u003c/table\u003e\n",
              "\u003c/div\u003e"
            ],
            "text/plain": [
              "   PassengerId  Survived  Pclass  \\\n",
              "0            1         0       3   \n",
              "1            2         1       1   \n",
              "2            3         1       3   \n",
              "3            4         1       1   \n",
              "4            5         0       3   \n",
              "\n",
              "                                                Name     Sex   Age  SibSp  \\\n",
              "0                            Braund, Mr. Owen Harris    male  22.0      1   \n",
              "1  Cumings, Mrs. John Bradley (Florence Briggs Th...  female  38.0      1   \n",
              "2                             Heikkinen, Miss. Laina  female  26.0      0   \n",
              "3       Futrelle, Mrs. Jacques Heath (Lily May Peel)  female  35.0      1   \n",
              "4                           Allen, Mr. William Henry    male  35.0      0   \n",
              "\n",
              "   Parch            Ticket     Fare Cabin Embarked  \n",
              "0      0         A/5 21171   7.2500   NaN        S  \n",
              "1      0          PC 17599  71.2833   C85        C  \n",
              "2      0  STON/O2. 3101282   7.9250   NaN        S  \n",
              "3      0            113803  53.1000  C123        S  \n",
              "4      0            373450   8.0500   NaN        S  "
            ]
          },
          "execution_count": 20,
          "metadata": {},
          "output_type": "execute_result"
        }
      ],
      "source": [
        "# 用于数据分析\n",
        "import pandas as pd\n",
        "import numpy as np\n",
        "# 用于绘图\n",
        "import matplotlib.pyplot as plt\n",
        "import seaborn as sns\n",
        "%matplotlib inline\n",
        "\n",
        "data_t \u003d pd.read_csv(\u0027../resources/titanic/train.csv\u0027)\n",
        "data_t.head()"
      ]
    },
    {
      "cell_type": "code",
      "execution_count": 21,
      "metadata": {
        "pycharm": {
          "is_executing": false,
          "metadata": false,
          "name": "#%%\n"
        }
      },
      "outputs": [
        {
          "name": "stdout",
          "output_type": "stream",
          "text": [
            "\u003cclass \u0027pandas.core.frame.DataFrame\u0027\u003e\n",
            "RangeIndex: 891 entries, 0 to 890\n",
            "Data columns (total 12 columns):\n",
            "PassengerId    891 non-null int64\n",
            "Survived       891 non-null int64\n",
            "Pclass         891 non-null int64\n",
            "Name           891 non-null object\n",
            "Sex            891 non-null object\n",
            "Age            714 non-null float64\n",
            "SibSp          891 non-null int64\n",
            "Parch          891 non-null int64\n",
            "Ticket         891 non-null object\n",
            "Fare           891 non-null float64\n",
            "Cabin          204 non-null object\n",
            "Embarked       889 non-null object\n",
            "dtypes: float64(2), int64(5), object(5)\n",
            "memory usage: 83.6+ KB\n"
          ]
        },
        {
          "data": {
            "text/plain": [
              "array([\u0027PassengerId\u0027, \u0027Survived\u0027, \u0027Pclass\u0027, \u0027Name\u0027, \u0027Sex\u0027, \u0027Age\u0027, \u0027SibSp\u0027,\n",
              "       \u0027Parch\u0027, \u0027Ticket\u0027, \u0027Fare\u0027, \u0027Cabin\u0027, \u0027Embarked\u0027], dtype\u003dobject)"
            ]
          },
          "execution_count": 21,
          "metadata": {},
          "output_type": "execute_result"
        }
      ],
      "source": [
        "# 数据集信息，包含数据集大小，列名，类型\n",
        "data_t.info()\n",
        "data_t.columns.values"
      ]
    },
    {
      "cell_type": "code",
      "execution_count": 22,
      "metadata": {
        "pycharm": {
          "is_executing": false
        }
      },
      "outputs": [
        {
          "name": "stdout",
          "output_type": "stream",
          "text": [
            "\u003d\u003d\u003d\u003d\u003d\u003d\u003d\u003d\u003d\u003d\u003d\u003d\u003d\u003d\u003d\u003d\u003d\u003d\u003d\u003dSurvived字段内容\u003d\u003d\u003d\u003d\u003d\u003d\u003d\u003d\u003d\u003d\u003d\u003d\u003d\u003d\u003d\u003d\u003d\u003d\u003d\u003d\n",
            "[0 1]\n",
            "\u003d\u003d\u003d\u003d\u003d\u003d\u003d\u003d\u003d\u003d\u003d\u003d\u003d\u003d\u003d\u003d\u003d\u003d\u003d\u003dSex字段内容\u003d\u003d\u003d\u003d\u003d\u003d\u003d\u003d\u003d\u003d\u003d\u003d\u003d\u003d\u003d\u003d\u003d\u003d\u003d\u003d\n",
            "[\u0027male\u0027 \u0027female\u0027]\n",
            "\u003d\u003d\u003d\u003d\u003d\u003d\u003d\u003d\u003d\u003d\u003d\u003d\u003d\u003d\u003d\u003d\u003d\u003d\u003d\u003dPclass字段内容\u003d\u003d\u003d\u003d\u003d\u003d\u003d\u003d\u003d\u003d\u003d\u003d\u003d\u003d\u003d\u003d\u003d\u003d\u003d\u003d\n",
            "[3 1 2]\n",
            "\u003d\u003d\u003d\u003d\u003d\u003d\u003d\u003d\u003d\u003d\u003d\u003d\u003d\u003d\u003d\u003d\u003d\u003d\u003d\u003dEmbarked字段内容\u003d\u003d\u003d\u003d\u003d\u003d\u003d\u003d\u003d\u003d\u003d\u003d\u003d\u003d\u003d\u003d\u003d\u003d\u003d\u003d\n",
            "[\u0027S\u0027 \u0027C\u0027 \u0027Q\u0027 nan]\n"
          ]
        }
      ],
      "source": [
        "# 字段分析\n",
        "def y(x):\n",
        "    return data_t[x].unique()\n",
        "print(\u0027\u003d\u0027*20 + \u0027Survived字段内容\u0027 + \u0027\u003d\u0027*20)\n",
        "print(y(\u0027Survived\u0027))\n",
        "print(\u0027\u003d\u0027*20 + \u0027Sex字段内容\u0027 + \u0027\u003d\u0027*20)\n",
        "print(y(\u0027Sex\u0027))\n",
        "print(\u0027\u003d\u0027*20 + \u0027Pclass字段内容\u0027 + \u0027\u003d\u0027*20)\n",
        "print(y(\u0027Pclass\u0027))\n",
        "print(\u0027\u003d\u0027*20 + \u0027Embarked字段内容\u0027 + \u0027\u003d\u0027*20)\n",
        "print(y(\u0027Embarked\u0027))"
      ]
    },
    {
      "cell_type": "code",
      "execution_count": 23,
      "metadata": {
        "pycharm": {
          "is_executing": false
        }
      },
      "outputs": [
        {
          "data": {
            "text/plain": [
              "False    891\n",
              "dtype: int64"
            ]
          },
          "execution_count": 23,
          "metadata": {},
          "output_type": "execute_result"
        }
      ],
      "source": [
        "# 显示重复的数据数量\n",
        "\n",
        "data_t.duplicated().value_counts()"
      ]
    },
    {
      "cell_type": "code",
      "execution_count": 24,
      "metadata": {
        "pycharm": {
          "is_executing": false
        }
      },
      "outputs": [
        {
          "name": "stdout",
          "output_type": "stream",
          "text": [
            "False    714\n",
            "True     177\n",
            "Name: Age, dtype: int64\n",
            "--------------------------------------------------\n",
            "True     687\n",
            "False    204\n",
            "Name: Cabin, dtype: int64\n",
            "--------------------------------------------------\n",
            "False    889\n",
            "True       2\n",
            "Name: Embarked, dtype: int64\n",
            "--------------------------------------------------\n"
          ]
        }
      ],
      "source": [
        "# 显示有空值的列\n",
        "print(data_t[\u0027Age\u0027].isnull().value_counts())\n",
        "print(\u0027-\u0027*50)\n",
        "print(data_t[\u0027Cabin\u0027].isnull().value_counts())\n",
        "print(\u0027-\u0027*50)\n",
        "print(data_t[\u0027Embarked\u0027].isnull().value_counts())\n",
        "print(\u0027-\u0027*50)"
      ]
    },
    {
      "cell_type": "code",
      "execution_count": 25,
      "metadata": {
        "pycharm": {
          "is_executing": false
        }
      },
      "outputs": [
        {
          "data": {
            "text/html": [
              "\u003cdiv\u003e\n",
              "\u003cstyle scoped\u003e\n",
              "    .dataframe tbody tr th:only-of-type {\n",
              "        vertical-align: middle;\n",
              "    }\n",
              "\n",
              "    .dataframe tbody tr th {\n",
              "        vertical-align: top;\n",
              "    }\n",
              "\n",
              "    .dataframe thead th {\n",
              "        text-align: right;\n",
              "    }\n",
              "\u003c/style\u003e\n",
              "\u003ctable border\u003d\"1\" class\u003d\"dataframe\"\u003e\n",
              "  \u003cthead\u003e\n",
              "    \u003ctr style\u003d\"text-align: right;\"\u003e\n",
              "      \u003cth\u003e\u003c/th\u003e\n",
              "      \u003cth\u003ePassengerId\u003c/th\u003e\n",
              "      \u003cth\u003eSurvived\u003c/th\u003e\n",
              "      \u003cth\u003ePclass\u003c/th\u003e\n",
              "      \u003cth\u003eAge\u003c/th\u003e\n",
              "      \u003cth\u003eSibSp\u003c/th\u003e\n",
              "      \u003cth\u003eParch\u003c/th\u003e\n",
              "      \u003cth\u003eFare\u003c/th\u003e\n",
              "    \u003c/tr\u003e\n",
              "  \u003c/thead\u003e\n",
              "  \u003ctbody\u003e\n",
              "    \u003ctr\u003e\n",
              "      \u003cth\u003ecount\u003c/th\u003e\n",
              "      \u003ctd\u003e891.000000\u003c/td\u003e\n",
              "      \u003ctd\u003e891.000000\u003c/td\u003e\n",
              "      \u003ctd\u003e891.000000\u003c/td\u003e\n",
              "      \u003ctd\u003e714.000000\u003c/td\u003e\n",
              "      \u003ctd\u003e891.000000\u003c/td\u003e\n",
              "      \u003ctd\u003e891.000000\u003c/td\u003e\n",
              "      \u003ctd\u003e891.000000\u003c/td\u003e\n",
              "    \u003c/tr\u003e\n",
              "    \u003ctr\u003e\n",
              "      \u003cth\u003emean\u003c/th\u003e\n",
              "      \u003ctd\u003e446.000000\u003c/td\u003e\n",
              "      \u003ctd\u003e0.383838\u003c/td\u003e\n",
              "      \u003ctd\u003e2.308642\u003c/td\u003e\n",
              "      \u003ctd\u003e29.699118\u003c/td\u003e\n",
              "      \u003ctd\u003e0.523008\u003c/td\u003e\n",
              "      \u003ctd\u003e0.381594\u003c/td\u003e\n",
              "      \u003ctd\u003e32.204208\u003c/td\u003e\n",
              "    \u003c/tr\u003e\n",
              "    \u003ctr\u003e\n",
              "      \u003cth\u003estd\u003c/th\u003e\n",
              "      \u003ctd\u003e257.353842\u003c/td\u003e\n",
              "      \u003ctd\u003e0.486592\u003c/td\u003e\n",
              "      \u003ctd\u003e0.836071\u003c/td\u003e\n",
              "      \u003ctd\u003e14.526497\u003c/td\u003e\n",
              "      \u003ctd\u003e1.102743\u003c/td\u003e\n",
              "      \u003ctd\u003e0.806057\u003c/td\u003e\n",
              "      \u003ctd\u003e49.693429\u003c/td\u003e\n",
              "    \u003c/tr\u003e\n",
              "    \u003ctr\u003e\n",
              "      \u003cth\u003emin\u003c/th\u003e\n",
              "      \u003ctd\u003e1.000000\u003c/td\u003e\n",
              "      \u003ctd\u003e0.000000\u003c/td\u003e\n",
              "      \u003ctd\u003e1.000000\u003c/td\u003e\n",
              "      \u003ctd\u003e0.420000\u003c/td\u003e\n",
              "      \u003ctd\u003e0.000000\u003c/td\u003e\n",
              "      \u003ctd\u003e0.000000\u003c/td\u003e\n",
              "      \u003ctd\u003e0.000000\u003c/td\u003e\n",
              "    \u003c/tr\u003e\n",
              "    \u003ctr\u003e\n",
              "      \u003cth\u003e25%\u003c/th\u003e\n",
              "      \u003ctd\u003e223.500000\u003c/td\u003e\n",
              "      \u003ctd\u003e0.000000\u003c/td\u003e\n",
              "      \u003ctd\u003e2.000000\u003c/td\u003e\n",
              "      \u003ctd\u003e20.125000\u003c/td\u003e\n",
              "      \u003ctd\u003e0.000000\u003c/td\u003e\n",
              "      \u003ctd\u003e0.000000\u003c/td\u003e\n",
              "      \u003ctd\u003e7.910400\u003c/td\u003e\n",
              "    \u003c/tr\u003e\n",
              "    \u003ctr\u003e\n",
              "      \u003cth\u003e50%\u003c/th\u003e\n",
              "      \u003ctd\u003e446.000000\u003c/td\u003e\n",
              "      \u003ctd\u003e0.000000\u003c/td\u003e\n",
              "      \u003ctd\u003e3.000000\u003c/td\u003e\n",
              "      \u003ctd\u003e28.000000\u003c/td\u003e\n",
              "      \u003ctd\u003e0.000000\u003c/td\u003e\n",
              "      \u003ctd\u003e0.000000\u003c/td\u003e\n",
              "      \u003ctd\u003e14.454200\u003c/td\u003e\n",
              "    \u003c/tr\u003e\n",
              "    \u003ctr\u003e\n",
              "      \u003cth\u003e75%\u003c/th\u003e\n",
              "      \u003ctd\u003e668.500000\u003c/td\u003e\n",
              "      \u003ctd\u003e1.000000\u003c/td\u003e\n",
              "      \u003ctd\u003e3.000000\u003c/td\u003e\n",
              "      \u003ctd\u003e38.000000\u003c/td\u003e\n",
              "      \u003ctd\u003e1.000000\u003c/td\u003e\n",
              "      \u003ctd\u003e0.000000\u003c/td\u003e\n",
              "      \u003ctd\u003e31.000000\u003c/td\u003e\n",
              "    \u003c/tr\u003e\n",
              "    \u003ctr\u003e\n",
              "      \u003cth\u003emax\u003c/th\u003e\n",
              "      \u003ctd\u003e891.000000\u003c/td\u003e\n",
              "      \u003ctd\u003e1.000000\u003c/td\u003e\n",
              "      \u003ctd\u003e3.000000\u003c/td\u003e\n",
              "      \u003ctd\u003e80.000000\u003c/td\u003e\n",
              "      \u003ctd\u003e8.000000\u003c/td\u003e\n",
              "      \u003ctd\u003e6.000000\u003c/td\u003e\n",
              "      \u003ctd\u003e512.329200\u003c/td\u003e\n",
              "    \u003c/tr\u003e\n",
              "  \u003c/tbody\u003e\n",
              "\u003c/table\u003e\n",
              "\u003c/div\u003e"
            ],
            "text/plain": [
              "       PassengerId    Survived      Pclass         Age       SibSp  \\\n",
              "count   891.000000  891.000000  891.000000  714.000000  891.000000   \n",
              "mean    446.000000    0.383838    2.308642   29.699118    0.523008   \n",
              "std     257.353842    0.486592    0.836071   14.526497    1.102743   \n",
              "min       1.000000    0.000000    1.000000    0.420000    0.000000   \n",
              "25%     223.500000    0.000000    2.000000   20.125000    0.000000   \n",
              "50%     446.000000    0.000000    3.000000   28.000000    0.000000   \n",
              "75%     668.500000    1.000000    3.000000   38.000000    1.000000   \n",
              "max     891.000000    1.000000    3.000000   80.000000    8.000000   \n",
              "\n",
              "            Parch        Fare  \n",
              "count  891.000000  891.000000  \n",
              "mean     0.381594   32.204208  \n",
              "std      0.806057   49.693429  \n",
              "min      0.000000    0.000000  \n",
              "25%      0.000000    7.910400  \n",
              "50%      0.000000   14.454200  \n",
              "75%      0.000000   31.000000  \n",
              "max      6.000000  512.329200  "
            ]
          },
          "execution_count": 25,
          "metadata": {},
          "output_type": "execute_result"
        }
      ],
      "source": [
        "# 描述性分析\n",
        "data_t.describe()"
      ]
    },
    {
      "cell_type": "code",
      "execution_count": 26,
      "metadata": {
        "pycharm": {
          "is_executing": false
        }
      },
      "outputs": [
        {
          "name": "stdout",
          "output_type": "stream",
          "text": [
            "\u003cclass \u0027pandas.core.frame.DataFrame\u0027\u003e\n",
            "RangeIndex: 891 entries, 0 to 890\n",
            "Data columns (total 10 columns):\n",
            "PassengerId    891 non-null int64\n",
            "Survived       891 non-null int64\n",
            "Pclass         891 non-null int64\n",
            "Name           891 non-null object\n",
            "Sex            891 non-null object\n",
            "Age            891 non-null int64\n",
            "SibSp          891 non-null int64\n",
            "Parch          891 non-null int64\n",
            "Fare           891 non-null float64\n",
            "Embarked       0 non-null object\n",
            "dtypes: float64(1), int64(6), object(3)\n",
            "memory usage: 69.7+ KB\n"
          ]
        }
      ],
      "source": [
        "# 处理空值\n",
        "data_t[\u0027Age\u0027] \u003d data_t[\u0027Age\u0027].fillna(data_t[\u0027Age\u0027].mean()).astype(np.int64)\n",
        "data_t[\u0027Embarked\u0027] \u003d data_t[\u0027Embarked\u0027].fillna({\"Embarked\":\"S\"},inplace\u003dTrue)\n",
        "# 删除无关的列\n",
        "data_t \u003d data_t.drop([\u0027Ticket\u0027,\u0027Cabin\u0027],axis\u003d\u0027columns\u0027)\n",
        "data_t.info()"
      ]
    },
    {
      "cell_type": "code",
      "execution_count": 27,
      "metadata": {
        "pycharm": {
          "is_executing": false
        }
      },
      "outputs": [
        {
          "data": {
            "image/png": "iVBORw0KGgoAAAANSUhEUgAAAmcAAAFNCAYAAABFbcjcAAAABHNCSVQICAgIfAhkiAAAAAlwSFlz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\nAAAASUVORK5CYII\u003d\n",
            "text/plain": [
              "\u003cFigure size 720x360 with 2 Axes\u003e"
            ]
          },
          "metadata": {},
          "output_type": "display_data"
        }
      ],
      "source": [
        "total_survived \u003d data_t[\u0027Survived\u0027].sum()\n",
        "total_no_survived \u003d 891 - total_survived\n",
        "\n",
        "plt.figure(figsize \u003d (10,5)) # 创建画布\n",
        "plt.subplot(121) # 添加第一个子图\n",
        "sns.countplot(x\u003d\u0027Survived\u0027,data\u003ddata_t)\n",
        "plt.title(\u0027Survived count\u0027)\n",
        "\n",
        "plt.subplot(122) # 添加第二个子图\n",
        "plt.pie([total_survived,total_no_survived],labels\u003d[\u0027Survived\u0027,\u0027No survived\u0027],autopct\u003d\u0027%1.0f%%\u0027)\n",
        "plt.title(\u0027Survived rate\u0027)\n",
        "\n",
        "plt.show()"
      ]
    },
    {
      "cell_type": "markdown",
      "metadata": {
        "pycharm": {}
      },
      "source": [
        "分别探索下 Pclass、Sex、Age 和 Embarked 等与“生还率”的关系.  \n",
        "舱位（Pclass）与生还率关系  "
      ]
    },
    {
      "cell_type": "code",
      "execution_count": 28,
      "metadata": {
        "pycharm": {
          "is_executing": false
        }
      },
      "outputs": [
        {
          "data": {
            "text/html": [
              "\u003cdiv\u003e\n",
              "\u003cstyle scoped\u003e\n",
              "    .dataframe tbody tr th:only-of-type {\n",
              "        vertical-align: middle;\n",
              "    }\n",
              "\n",
              "    .dataframe tbody tr th {\n",
              "        vertical-align: top;\n",
              "    }\n",
              "\n",
              "    .dataframe thead th {\n",
              "        text-align: right;\n",
              "    }\n",
              "\u003c/style\u003e\n",
              "\u003ctable border\u003d\"1\" class\u003d\"dataframe\"\u003e\n",
              "  \u003cthead\u003e\n",
              "    \u003ctr style\u003d\"text-align: right;\"\u003e\n",
              "      \u003cth\u003e\u003c/th\u003e\n",
              "      \u003cth\u003eName\u003c/th\u003e\n",
              "    \u003c/tr\u003e\n",
              "    \u003ctr\u003e\n",
              "      \u003cth\u003ePclass\u003c/th\u003e\n",
              "      \u003cth\u003e\u003c/th\u003e\n",
              "    \u003c/tr\u003e\n",
              "  \u003c/thead\u003e\n",
              "  \u003ctbody\u003e\n",
              "    \u003ctr\u003e\n",
              "      \u003cth\u003e1\u003c/th\u003e\n",
              "      \u003ctd\u003e216\u003c/td\u003e\n",
              "    \u003c/tr\u003e\n",
              "    \u003ctr\u003e\n",
              "      \u003cth\u003e2\u003c/th\u003e\n",
              "      \u003ctd\u003e184\u003c/td\u003e\n",
              "    \u003c/tr\u003e\n",
              "    \u003ctr\u003e\n",
              "      \u003cth\u003e3\u003c/th\u003e\n",
              "      \u003ctd\u003e491\u003c/td\u003e\n",
              "    \u003c/tr\u003e\n",
              "  \u003c/tbody\u003e\n",
              "\u003c/table\u003e\n",
              "\u003c/div\u003e"
            ],
            "text/plain": [
              "        Name\n",
              "Pclass      \n",
              "1        216\n",
              "2        184\n",
              "3        491"
            ]
          },
          "execution_count": 28,
          "metadata": {},
          "output_type": "execute_result"
        }
      ],
      "source": [
        "# 不同船舱人数分布\n",
        "data_t.pivot_table(values\u003d\u0027Name\u0027,index\u003d\u0027Pclass\u0027,aggfunc\u003d\u0027count\u0027)"
      ]
    },
    {
      "cell_type": "code",
      "execution_count": 29,
      "metadata": {
        "pycharm": {
          "is_executing": false
        }
      },
      "outputs": [
        {
          "data": {
            "text/html": [
              "\u003cdiv\u003e\n",
              "\u003cstyle scoped\u003e\n",
              "    .dataframe tbody tr th:only-of-type {\n",
              "        vertical-align: middle;\n",
              "    }\n",
              "\n",
              "    .dataframe tbody tr th {\n",
              "        vertical-align: top;\n",
              "    }\n",
              "\n",
              "    .dataframe thead th {\n",
              "        text-align: right;\n",
              "    }\n",
              "\u003c/style\u003e\n",
              "\u003ctable border\u003d\"1\" class\u003d\"dataframe\"\u003e\n",
              "  \u003cthead\u003e\n",
              "    \u003ctr style\u003d\"text-align: right;\"\u003e\n",
              "      \u003cth\u003e\u003c/th\u003e\n",
              "      \u003cth\u003eName\u003c/th\u003e\n",
              "    \u003c/tr\u003e\n",
              "    \u003ctr\u003e\n",
              "      \u003cth\u003ePclass\u003c/th\u003e\n",
              "      \u003cth\u003e\u003c/th\u003e\n",
              "    \u003c/tr\u003e\n",
              "  \u003c/thead\u003e\n",
              "  \u003ctbody\u003e\n",
              "    \u003ctr\u003e\n",
              "      \u003cth\u003e1\u003c/th\u003e\n",
              "      \u003ctd\u003e216\u003c/td\u003e\n",
              "    \u003c/tr\u003e\n",
              "    \u003ctr\u003e\n",
              "      \u003cth\u003e2\u003c/th\u003e\n",
              "      \u003ctd\u003e184\u003c/td\u003e\n",
              "    \u003c/tr\u003e\n",
              "    \u003ctr\u003e\n",
              "      \u003cth\u003e3\u003c/th\u003e\n",
              "      \u003ctd\u003e491\u003c/td\u003e\n",
              "    \u003c/tr\u003e\n",
              "  \u003c/tbody\u003e\n",
              "\u003c/table\u003e\n",
              "\u003c/div\u003e"
            ],
            "text/plain": [
              "        Name\n",
              "Pclass      \n",
              "1        216\n",
              "2        184\n",
              "3        491"
            ]
          },
          "execution_count": 29,
          "metadata": {},
          "output_type": "execute_result"
        }
      ],
      "source": [
        "data_t[[\u0027Pclass\u0027,\u0027Name\u0027]].groupby([\u0027Pclass\u0027]).count()"
      ]
    },
    {
      "cell_type": "code",
      "execution_count": 30,
      "metadata": {
        "pycharm": {
          "is_executing": false
        }
      },
      "outputs": [
        {
          "data": {
            "text/html": [
              "\u003cdiv\u003e\n",
              "\u003cstyle scoped\u003e\n",
              "    .dataframe tbody tr th:only-of-type {\n",
              "        vertical-align: middle;\n",
              "    }\n",
              "\n",
              "    .dataframe tbody tr th {\n",
              "        vertical-align: top;\n",
              "    }\n",
              "\n",
              "    .dataframe thead th {\n",
              "        text-align: right;\n",
              "    }\n",
              "\u003c/style\u003e\n",
              "\u003ctable border\u003d\"1\" class\u003d\"dataframe\"\u003e\n",
              "  \u003cthead\u003e\n",
              "    \u003ctr style\u003d\"text-align: right;\"\u003e\n",
              "      \u003cth\u003e\u003c/th\u003e\n",
              "      \u003cth\u003eSurvived\u003c/th\u003e\n",
              "    \u003c/tr\u003e\n",
              "    \u003ctr\u003e\n",
              "      \u003cth\u003ePclass\u003c/th\u003e\n",
              "      \u003cth\u003e\u003c/th\u003e\n",
              "    \u003c/tr\u003e\n",
              "  \u003c/thead\u003e\n",
              "  \u003ctbody\u003e\n",
              "    \u003ctr\u003e\n",
              "      \u003cth\u003e1\u003c/th\u003e\n",
              "      \u003ctd\u003e0.629630\u003c/td\u003e\n",
              "    \u003c/tr\u003e\n",
              "    \u003ctr\u003e\n",
              "      \u003cth\u003e2\u003c/th\u003e\n",
              "      \u003ctd\u003e0.472826\u003c/td\u003e\n",
              "    \u003c/tr\u003e\n",
              "    \u003ctr\u003e\n",
              "      \u003cth\u003e3\u003c/th\u003e\n",
              "      \u003ctd\u003e0.242363\u003c/td\u003e\n",
              "    \u003c/tr\u003e\n",
              "  \u003c/tbody\u003e\n",
              "\u003c/table\u003e\n",
              "\u003c/div\u003e"
            ],
            "text/plain": [
              "        Survived\n",
              "Pclass          \n",
              "1       0.629630\n",
              "2       0.472826\n",
              "3       0.242363"
            ]
          },
          "execution_count": 30,
          "metadata": {},
          "output_type": "execute_result"
        }
      ],
      "source": [
        "# 仓位与生还率关系\n",
        "data_t.pivot_table(values\u003d\u0027Survived\u0027,index\u003d\u0027Pclass\u0027,aggfunc\u003dnp.mean)"
      ]
    },
    {
      "cell_type": "code",
      "execution_count": 31,
      "metadata": {
        "pycharm": {
          "is_executing": false
        }
      },
      "outputs": [
        {
          "data": {
            "text/html": [
              "\u003cdiv\u003e\n",
              "\u003cstyle scoped\u003e\n",
              "    .dataframe tbody tr th:only-of-type {\n",
              "        vertical-align: middle;\n",
              "    }\n",
              "\n",
              "    .dataframe tbody tr th {\n",
              "        vertical-align: top;\n",
              "    }\n",
              "\n",
              "    .dataframe thead th {\n",
              "        text-align: right;\n",
              "    }\n",
              "\u003c/style\u003e\n",
              "\u003ctable border\u003d\"1\" class\u003d\"dataframe\"\u003e\n",
              "  \u003cthead\u003e\n",
              "    \u003ctr style\u003d\"text-align: right;\"\u003e\n",
              "      \u003cth\u003e\u003c/th\u003e\n",
              "      \u003cth\u003eSurvived\u003c/th\u003e\n",
              "    \u003c/tr\u003e\n",
              "    \u003ctr\u003e\n",
              "      \u003cth\u003eSex\u003c/th\u003e\n",
              "      \u003cth\u003e\u003c/th\u003e\n",
              "    \u003c/tr\u003e\n",
              "  \u003c/thead\u003e\n",
              "  \u003ctbody\u003e\n",
              "    \u003ctr\u003e\n",
              "      \u003cth\u003efemale\u003c/th\u003e\n",
              "      \u003ctd\u003e0.742038\u003c/td\u003e\n",
              "    \u003c/tr\u003e\n",
              "    \u003ctr\u003e\n",
              "      \u003cth\u003emale\u003c/th\u003e\n",
              "      \u003ctd\u003e0.188908\u003c/td\u003e\n",
              "    \u003c/tr\u003e\n",
              "  \u003c/tbody\u003e\n",
              "\u003c/table\u003e\n",
              "\u003c/div\u003e"
            ],
            "text/plain": [
              "        Survived\n",
              "Sex             \n",
              "female  0.742038\n",
              "male    0.188908"
            ]
          },
          "execution_count": 31,
          "metadata": {},
          "output_type": "execute_result"
        }
      ],
      "source": [
        "# 不同性别生还率\n",
        "data_t.pivot_table(values\u003d\u0027Survived\u0027,index\u003d\u0027Sex\u0027,aggfunc\u003dnp.mean)\n"
      ]
    },
    {
      "cell_type": "code",
      "execution_count": 32,
      "metadata": {
        "pycharm": {
          "is_executing": false
        }
      },
      "outputs": [
        {
          "data": {
            "text/html": [
              "\u003cdiv\u003e\n",
              "\u003cstyle scoped\u003e\n",
              "    .dataframe tbody tr th:only-of-type {\n",
              "        vertical-align: middle;\n",
              "    }\n",
              "\n",
              "    .dataframe tbody tr th {\n",
              "        vertical-align: top;\n",
              "    }\n",
              "\n",
              "    .dataframe thead th {\n",
              "        text-align: right;\n",
              "    }\n",
              "\u003c/style\u003e\n",
              "\u003ctable border\u003d\"1\" class\u003d\"dataframe\"\u003e\n",
              "  \u003cthead\u003e\n",
              "    \u003ctr style\u003d\"text-align: right;\"\u003e\n",
              "      \u003cth\u003e\u003c/th\u003e\n",
              "      \u003cth\u003e\u003c/th\u003e\n",
              "      \u003cth\u003eSurvived\u003c/th\u003e\n",
              "    \u003c/tr\u003e\n",
              "    \u003ctr\u003e\n",
              "      \u003cth\u003ePclass\u003c/th\u003e\n",
              "      \u003cth\u003eSex\u003c/th\u003e\n",
              "      \u003cth\u003e\u003c/th\u003e\n",
              "    \u003c/tr\u003e\n",
              "  \u003c/thead\u003e\n",
              "  \u003ctbody\u003e\n",
              "    \u003ctr\u003e\n",
              "      \u003cth rowspan\u003d\"2\" valign\u003d\"top\"\u003e1\u003c/th\u003e\n",
              "      \u003cth\u003efemale\u003c/th\u003e\n",
              "      \u003ctd\u003e0.968085\u003c/td\u003e\n",
              "    \u003c/tr\u003e\n",
              "    \u003ctr\u003e\n",
              "      \u003cth\u003emale\u003c/th\u003e\n",
              "      \u003ctd\u003e0.368852\u003c/td\u003e\n",
              "    \u003c/tr\u003e\n",
              "    \u003ctr\u003e\n",
              "      \u003cth rowspan\u003d\"2\" valign\u003d\"top\"\u003e2\u003c/th\u003e\n",
              "      \u003cth\u003efemale\u003c/th\u003e\n",
              "      \u003ctd\u003e0.921053\u003c/td\u003e\n",
              "    \u003c/tr\u003e\n",
              "    \u003ctr\u003e\n",
              "      \u003cth\u003emale\u003c/th\u003e\n",
              "      \u003ctd\u003e0.157407\u003c/td\u003e\n",
              "    \u003c/tr\u003e\n",
              "    \u003ctr\u003e\n",
              "      \u003cth rowspan\u003d\"2\" valign\u003d\"top\"\u003e3\u003c/th\u003e\n",
              "      \u003cth\u003efemale\u003c/th\u003e\n",
              "      \u003ctd\u003e0.500000\u003c/td\u003e\n",
              "    \u003c/tr\u003e\n",
              "    \u003ctr\u003e\n",
              "      \u003cth\u003emale\u003c/th\u003e\n",
              "      \u003ctd\u003e0.135447\u003c/td\u003e\n",
              "    \u003c/tr\u003e\n",
              "  \u003c/tbody\u003e\n",
              "\u003c/table\u003e\n",
              "\u003c/div\u003e"
            ],
            "text/plain": [
              "               Survived\n",
              "Pclass Sex             \n",
              "1      female  0.968085\n",
              "       male    0.368852\n",
              "2      female  0.921053\n",
              "       male    0.157407\n",
              "3      female  0.500000\n",
              "       male    0.135447"
            ]
          },
          "execution_count": 32,
          "metadata": {},
          "output_type": "execute_result"
        }
      ],
      "source": [
        "#首先计算不同舱位不同性别的人的生还概率\n",
        "data_t.pivot_table(values\u003d\u0027Survived\u0027, index\u003d[\u0027Pclass\u0027,\u0027Sex\u0027], aggfunc\u003dnp.mean)\n"
      ]
    },
    {
      "cell_type": "markdown",
      "metadata": {
        "pycharm": {}
      },
      "source": [
        "\u003cp style\u003d\"font-size:12px\"\u003e\n",
        "年龄（Age）与生还率关系  \n",
        "与上面的舱位、性别这些分类变量不同，年龄是一个连续的数值变量，一般处理这样的数据类型，我们采用将连续性的变量离散化的方法。    \n",
        "所谓离散化，指的是将某个变量的所在区间分割为几个小区间，落在同一个区间的观测值用同一个符号表示，简单理解就是将属于统一范围类的观测值分为一组, 然后分组观察。  \n",
        "pandas中提供了cut函数，对变量进行离散化分割。  \n",
        "\u003c/p\u003e"
      ]
    },
    {
      "cell_type": "code",
      "execution_count": 33,
      "metadata": {
        "pycharm": {
          "is_executing": false
        }
      },
      "outputs": [
        {
          "data": {
            "text/plain": [
              "(-0.08, 16.0]    100\n",
              "(16.0, 32.0]     525\n",
              "(32.0, 48.0]     186\n",
              "(48.0, 64.0]      69\n",
              "(64.0, 80.0]      11\n",
              "Name: AgeGroup, dtype: int64"
            ]
          },
          "execution_count": 33,
          "metadata": {},
          "output_type": "execute_result"
        }
      ],
      "source": [
        "data_t[\u0027AgeGroup\u0027] \u003d pd.cut(data_t[\u0027Age\u0027], 5) # 将年龄的列数值划分为五等份\n",
        "data_t.AgeGroup.value_counts(sort\u003dFalse)"
      ]
    },
    {
      "cell_type": "code",
      "execution_count": 34,
      "metadata": {
        "pycharm": {
          "is_executing": false
        }
      },
      "outputs": [
        {
          "data": {
            "text/html": [
              "\u003cdiv\u003e\n",
              "\u003cstyle scoped\u003e\n",
              "    .dataframe tbody tr th:only-of-type {\n",
              "        vertical-align: middle;\n",
              "    }\n",
              "\n",
              "    .dataframe tbody tr th {\n",
              "        vertical-align: top;\n",
              "    }\n",
              "\n",
              "    .dataframe thead th {\n",
              "        text-align: right;\n",
              "    }\n",
              "\u003c/style\u003e\n",
              "\u003ctable border\u003d\"1\" class\u003d\"dataframe\"\u003e\n",
              "  \u003cthead\u003e\n",
              "    \u003ctr style\u003d\"text-align: right;\"\u003e\n",
              "      \u003cth\u003e\u003c/th\u003e\n",
              "      \u003cth\u003eSurvived\u003c/th\u003e\n",
              "    \u003c/tr\u003e\n",
              "    \u003ctr\u003e\n",
              "      \u003cth\u003eAgeGroup\u003c/th\u003e\n",
              "      \u003cth\u003e\u003c/th\u003e\n",
              "    \u003c/tr\u003e\n",
              "  \u003c/thead\u003e\n",
              "  \u003ctbody\u003e\n",
              "    \u003ctr\u003e\n",
              "      \u003cth\u003e(-0.08, 16.0]\u003c/th\u003e\n",
              "      \u003ctd\u003e0.550000\u003c/td\u003e\n",
              "    \u003c/tr\u003e\n",
              "    \u003ctr\u003e\n",
              "      \u003cth\u003e(16.0, 32.0]\u003c/th\u003e\n",
              "      \u003ctd\u003e0.344762\u003c/td\u003e\n",
              "    \u003c/tr\u003e\n",
              "    \u003ctr\u003e\n",
              "      \u003cth\u003e(32.0, 48.0]\u003c/th\u003e\n",
              "      \u003ctd\u003e0.403226\u003c/td\u003e\n",
              "    \u003c/tr\u003e\n",
              "    \u003ctr\u003e\n",
              "      \u003cth\u003e(48.0, 64.0]\u003c/th\u003e\n",
              "      \u003ctd\u003e0.434783\u003c/td\u003e\n",
              "    \u003c/tr\u003e\n",
              "    \u003ctr\u003e\n",
              "      \u003cth\u003e(64.0, 80.0]\u003c/th\u003e\n",
              "      \u003ctd\u003e0.090909\u003c/td\u003e\n",
              "    \u003c/tr\u003e\n",
              "  \u003c/tbody\u003e\n",
              "\u003c/table\u003e\n",
              "\u003c/div\u003e"
            ],
            "text/plain": [
              "               Survived\n",
              "AgeGroup               \n",
              "(-0.08, 16.0]  0.550000\n",
              "(16.0, 32.0]   0.344762\n",
              "(32.0, 48.0]   0.403226\n",
              "(48.0, 64.0]   0.434783\n",
              "(64.0, 80.0]   0.090909"
            ]
          },
          "execution_count": 34,
          "metadata": {},
          "output_type": "execute_result"
        }
      ],
      "source": [
        "# 各个年龄段的生还率\n",
        "data_t.pivot_table(values \u003d \u0027Survived\u0027, index \u003d \u0027AgeGroup\u0027, aggfunc\u003dnp.mean)"
      ]
    },
    {
      "cell_type": "code",
      "execution_count": 35,
      "metadata": {
        "pycharm": {
          "is_executing": false
        }
      },
      "outputs": [
        {
          "data": {
            "text/html": [
              "\u003cdiv\u003e\n",
              "\u003cstyle scoped\u003e\n",
              "    .dataframe tbody tr th:only-of-type {\n",
              "        vertical-align: middle;\n",
              "    }\n",
              "\n",
              "    .dataframe tbody tr th {\n",
              "        vertical-align: top;\n",
              "    }\n",
              "\n",
              "    .dataframe thead th {\n",
              "        text-align: right;\n",
              "    }\n",
              "\u003c/style\u003e\n",
              "\u003ctable border\u003d\"1\" class\u003d\"dataframe\"\u003e\n",
              "  \u003cthead\u003e\n",
              "    \u003ctr style\u003d\"text-align: right;\"\u003e\n",
              "      \u003cth\u003eSex\u003c/th\u003e\n",
              "      \u003cth\u003efemale\u003c/th\u003e\n",
              "      \u003cth\u003emale\u003c/th\u003e\n",
              "    \u003c/tr\u003e\n",
              "    \u003ctr\u003e\n",
              "      \u003cth\u003eAgeGroup\u003c/th\u003e\n",
              "      \u003cth\u003e\u003c/th\u003e\n",
              "      \u003cth\u003e\u003c/th\u003e\n",
              "    \u003c/tr\u003e\n",
              "  \u003c/thead\u003e\n",
              "  \u003ctbody\u003e\n",
              "    \u003ctr\u003e\n",
              "      \u003cth\u003e(-0.08, 16.0]\u003c/th\u003e\n",
              "      \u003ctd\u003e0.673469\u003c/td\u003e\n",
              "      \u003ctd\u003e0.431373\u003c/td\u003e\n",
              "    \u003c/tr\u003e\n",
              "    \u003ctr\u003e\n",
              "      \u003cth\u003e(16.0, 32.0]\u003c/th\u003e\n",
              "      \u003ctd\u003e0.718391\u003c/td\u003e\n",
              "      \u003ctd\u003e0.159544\u003c/td\u003e\n",
              "    \u003c/tr\u003e\n",
              "    \u003ctr\u003e\n",
              "      \u003cth\u003e(32.0, 48.0]\u003c/th\u003e\n",
              "      \u003ctd\u003e0.791045\u003c/td\u003e\n",
              "      \u003ctd\u003e0.184874\u003c/td\u003e\n",
              "    \u003c/tr\u003e\n",
              "    \u003ctr\u003e\n",
              "      \u003cth\u003e(48.0, 64.0]\u003c/th\u003e\n",
              "      \u003ctd\u003e0.916667\u003c/td\u003e\n",
              "      \u003ctd\u003e0.177778\u003c/td\u003e\n",
              "    \u003c/tr\u003e\n",
              "    \u003ctr\u003e\n",
              "      \u003cth\u003e(64.0, 80.0]\u003c/th\u003e\n",
              "      \u003ctd\u003eNaN\u003c/td\u003e\n",
              "      \u003ctd\u003e0.090909\u003c/td\u003e\n",
              "    \u003c/tr\u003e\n",
              "  \u003c/tbody\u003e\n",
              "\u003c/table\u003e\n",
              "\u003c/div\u003e"
            ],
            "text/plain": [
              "Sex              female      male\n",
              "AgeGroup                         \n",
              "(-0.08, 16.0]  0.673469  0.431373\n",
              "(16.0, 32.0]   0.718391  0.159544\n",
              "(32.0, 48.0]   0.791045  0.184874\n",
              "(48.0, 64.0]   0.916667  0.177778\n",
              "(64.0, 80.0]        NaN  0.090909"
            ]
          },
          "execution_count": 35,
          "metadata": {},
          "output_type": "execute_result"
        }
      ],
      "source": [
        "# 年龄（Age），性别（Sex）与生还率关系\n",
        "data_t.pivot_table(values\u003d\u0027Survived\u0027, index\u003d\u0027AgeGroup\u0027, columns\u003d\u0027Sex\u0027, aggfunc\u003dnp.mean)\n"
      ]
    },
    {
      "cell_type": "code",
      "execution_count": 36,
      "metadata": {
        "pycharm": {
          "is_executing": false
        }
      },
      "outputs": [
        {
          "data": {
            "text/html": [
              "\u003cdiv\u003e\n",
              "\u003cstyle scoped\u003e\n",
              "    .dataframe tbody tr th:only-of-type {\n",
              "        vertical-align: middle;\n",
              "    }\n",
              "\n",
              "    .dataframe tbody tr th {\n",
              "        vertical-align: top;\n",
              "    }\n",
              "\n",
              "    .dataframe thead tr th {\n",
              "        text-align: left;\n",
              "    }\n",
              "\n",
              "    .dataframe thead tr:last-of-type th {\n",
              "        text-align: right;\n",
              "    }\n",
              "\u003c/style\u003e\n",
              "\u003ctable border\u003d\"1\" class\u003d\"dataframe\"\u003e\n",
              "  \u003cthead\u003e\n",
              "    \u003ctr\u003e\n",
              "      \u003cth\u003eSex\u003c/th\u003e\n",
              "      \u003cth colspan\u003d\"3\" halign\u003d\"left\"\u003efemale\u003c/th\u003e\n",
              "      \u003cth colspan\u003d\"3\" halign\u003d\"left\"\u003emale\u003c/th\u003e\n",
              "    \u003c/tr\u003e\n",
              "    \u003ctr\u003e\n",
              "      \u003cth\u003ePclass\u003c/th\u003e\n",
              "      \u003cth\u003e1\u003c/th\u003e\n",
              "      \u003cth\u003e2\u003c/th\u003e\n",
              "      \u003cth\u003e3\u003c/th\u003e\n",
              "      \u003cth\u003e1\u003c/th\u003e\n",
              "      \u003cth\u003e2\u003c/th\u003e\n",
              "      \u003cth\u003e3\u003c/th\u003e\n",
              "    \u003c/tr\u003e\n",
              "    \u003ctr\u003e\n",
              "      \u003cth\u003eAgeGroup\u003c/th\u003e\n",
              "      \u003cth\u003e\u003c/th\u003e\n",
              "      \u003cth\u003e\u003c/th\u003e\n",
              "      \u003cth\u003e\u003c/th\u003e\n",
              "      \u003cth\u003e\u003c/th\u003e\n",
              "      \u003cth\u003e\u003c/th\u003e\n",
              "      \u003cth\u003e\u003c/th\u003e\n",
              "    \u003c/tr\u003e\n",
              "  \u003c/thead\u003e\n",
              "  \u003ctbody\u003e\n",
              "    \u003ctr\u003e\n",
              "      \u003cth\u003e(-0.08, 16.0]\u003c/th\u003e\n",
              "      \u003ctd\u003e0.833333\u003c/td\u003e\n",
              "      \u003ctd\u003e1.000000\u003c/td\u003e\n",
              "      \u003ctd\u003e0.545455\u003c/td\u003e\n",
              "      \u003ctd\u003e1.000000\u003c/td\u003e\n",
              "      \u003ctd\u003e0.818182\u003c/td\u003e\n",
              "      \u003ctd\u003e0.270270\u003c/td\u003e\n",
              "    \u003c/tr\u003e\n",
              "    \u003ctr\u003e\n",
              "      \u003cth\u003e(16.0, 32.0]\u003c/th\u003e\n",
              "      \u003ctd\u003e0.975610\u003c/td\u003e\n",
              "      \u003ctd\u003e0.923077\u003c/td\u003e\n",
              "      \u003ctd\u003e0.521277\u003c/td\u003e\n",
              "      \u003ctd\u003e0.354167\u003c/td\u003e\n",
              "      \u003ctd\u003e0.086207\u003c/td\u003e\n",
              "      \u003ctd\u003e0.138776\u003c/td\u003e\n",
              "    \u003c/tr\u003e\n",
              "    \u003ctr\u003e\n",
              "      \u003cth\u003e(32.0, 48.0]\u003c/th\u003e\n",
              "      \u003ctd\u003e1.000000\u003c/td\u003e\n",
              "      \u003ctd\u003e0.904762\u003c/td\u003e\n",
              "      \u003ctd\u003e0.250000\u003c/td\u003e\n",
              "      \u003ctd\u003e0.435897\u003c/td\u003e\n",
              "      \u003ctd\u003e0.076923\u003c/td\u003e\n",
              "      \u003ctd\u003e0.055556\u003c/td\u003e\n",
              "    \u003c/tr\u003e\n",
              "    \u003ctr\u003e\n",
              "      \u003cth\u003e(48.0, 64.0]\u003c/th\u003e\n",
              "      \u003ctd\u003e0.941176\u003c/td\u003e\n",
              "      \u003ctd\u003e0.833333\u003c/td\u003e\n",
              "      \u003ctd\u003e1.000000\u003c/td\u003e\n",
              "      \u003ctd\u003e0.269231\u003c/td\u003e\n",
              "      \u003ctd\u003e0.090909\u003c/td\u003e\n",
              "      \u003ctd\u003e0.000000\u003c/td\u003e\n",
              "    \u003c/tr\u003e\n",
              "    \u003ctr\u003e\n",
              "      \u003cth\u003e(64.0, 80.0]\u003c/th\u003e\n",
              "      \u003ctd\u003eNaN\u003c/td\u003e\n",
              "      \u003ctd\u003eNaN\u003c/td\u003e\n",
              "      \u003ctd\u003eNaN\u003c/td\u003e\n",
              "      \u003ctd\u003e0.166667\u003c/td\u003e\n",
              "      \u003ctd\u003e0.000000\u003c/td\u003e\n",
              "      \u003ctd\u003e0.000000\u003c/td\u003e\n",
              "    \u003c/tr\u003e\n",
              "  \u003c/tbody\u003e\n",
              "\u003c/table\u003e\n",
              "\u003c/div\u003e"
            ],
            "text/plain": [
              "Sex              female                          male                    \n",
              "Pclass                1         2         3         1         2         3\n",
              "AgeGroup                                                                 \n",
              "(-0.08, 16.0]  0.833333  1.000000  0.545455  1.000000  0.818182  0.270270\n",
              "(16.0, 32.0]   0.975610  0.923077  0.521277  0.354167  0.086207  0.138776\n",
              "(32.0, 48.0]   1.000000  0.904762  0.250000  0.435897  0.076923  0.055556\n",
              "(48.0, 64.0]   0.941176  0.833333  1.000000  0.269231  0.090909  0.000000\n",
              "(64.0, 80.0]        NaN       NaN       NaN  0.166667  0.000000  0.000000"
            ]
          },
          "execution_count": 36,
          "metadata": {},
          "output_type": "execute_result"
        }
      ],
      "source": [
        "# 年龄（Age），性别（Sex），舱位（Pclass）与生还率关系\n",
        "data_t.pivot_table(values\u003d\"Survived\",index\u003d\"AgeGroup\",columns\u003d[\"Sex\",\"Pclass\"],aggfunc\u003dnp.mean)"
      ]
    },
    {
      "cell_type": "code",
      "execution_count": 37,
      "metadata": {
        "collapsed": true,
        "pycharm": {
          "is_executing": false
        }
      },
      "outputs": [
        {
          "data": {
            "text/plain": "(-0.01, 2.0]    800\n(2.0, 4.0]       44\n(4.0, 6.0]       34\n(6.0, 8.0]        6\n(8.0, 10.0]       7\nName: FamilyScale, dtype: int64"
          },
          "metadata": {},
          "output_type": "execute_result",
          "execution_count": 37
        }
      ],
      "source": "# 家庭规模数据 分为5组\ndata_t[\u0027FamilyScale\u0027] \u003d pd.cut(data_t[\u0027SibSp\u0027] + data_t[\u0027Parch\u0027], 5) # 将年龄的列数值划分为五等份\ndata_t.FamilyScale.value_counts(sort\u003dFalse)"
    },
    {
      "cell_type": "code",
      "execution_count": 39,
      "outputs": [
        {
          "data": {
            "text/plain": "              Survived\nFamilyScale           \n(-0.01, 2.0]  0.388750\n(2.0, 4.0]    0.545455\n(4.0, 6.0]    0.205882\n(6.0, 8.0]    0.000000\n(8.0, 10.0]   0.000000",
            "text/html": "\u003cdiv\u003e\n\u003cstyle scoped\u003e\n    .dataframe tbody tr th:only-of-type {\n        vertical-align: middle;\n    }\n\n    .dataframe tbody tr th {\n        vertical-align: top;\n    }\n\n    .dataframe thead th {\n        text-align: right;\n    }\n\u003c/style\u003e\n\u003ctable border\u003d\"1\" class\u003d\"dataframe\"\u003e\n  \u003cthead\u003e\n    \u003ctr style\u003d\"text-align: right;\"\u003e\n      \u003cth\u003e\u003c/th\u003e\n      \u003cth\u003eSurvived\u003c/th\u003e\n    \u003c/tr\u003e\n    \u003ctr\u003e\n      \u003cth\u003eFamilyScale\u003c/th\u003e\n      \u003cth\u003e\u003c/th\u003e\n    \u003c/tr\u003e\n  \u003c/thead\u003e\n  \u003ctbody\u003e\n    \u003ctr\u003e\n      \u003cth\u003e(-0.01, 2.0]\u003c/th\u003e\n      \u003ctd\u003e0.388750\u003c/td\u003e\n    \u003c/tr\u003e\n    \u003ctr\u003e\n      \u003cth\u003e(2.0, 4.0]\u003c/th\u003e\n      \u003ctd\u003e0.545455\u003c/td\u003e\n    \u003c/tr\u003e\n    \u003ctr\u003e\n      \u003cth\u003e(4.0, 6.0]\u003c/th\u003e\n      \u003ctd\u003e0.205882\u003c/td\u003e\n    \u003c/tr\u003e\n    \u003ctr\u003e\n      \u003cth\u003e(6.0, 8.0]\u003c/th\u003e\n      \u003ctd\u003e0.000000\u003c/td\u003e\n    \u003c/tr\u003e\n    \u003ctr\u003e\n      \u003cth\u003e(8.0, 10.0]\u003c/th\u003e\n      \u003ctd\u003e0.000000\u003c/td\u003e\n    \u003c/tr\u003e\n  \u003c/tbody\u003e\n\u003c/table\u003e\n\u003c/div\u003e"
          },
          "metadata": {},
          "output_type": "execute_result",
          "execution_count": 39
        }
      ],
      "source": "# 家庭规模数据与生还率关系\ndata_t.pivot_table(values\u003d\"Survived\", index\u003d\"FamilyScale\", aggfunc\u003dnp.mean)",
      "metadata": {
        "pycharm": {
          "metadata": false,
          "name": "#%%\n",
          "is_executing": false
        }
      }
    }
  ],
  "metadata": {
    "kernelspec": {
      "display_name": "Python 3",
      "language": "python",
      "name": "python3"
    },
    "language_info": {
      "codemirror_mode": {
        "name": "ipython",
        "version": 3
      },
      "file_extension": ".py",
      "mimetype": "text/x-python",
      "name": "python",
      "nbconvert_exporter": "python",
      "pygments_lexer": "ipython3",
      "version": "3.6.2"
    }
  },
  "nbformat": 4,
  "nbformat_minor": 1
}