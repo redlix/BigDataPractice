{
 "cells": [
  {
   "cell_type": "code",
   "execution_count": 1,
   "metadata": {},
   "outputs": [
    {
     "data": {
      "text/plain": [
       "'local'"
      ]
     },
     "execution_count": 1,
     "metadata": {},
     "output_type": "execute_result"
    }
   ],
   "source": [
    "from pyspark import  SparkContext\n",
    "sc = SparkContext('local', 'App')\n",
    "\n",
    "sc.master"
   ]
  },
  {
   "cell_type": "code",
   "execution_count": 2,
   "metadata": {},
   "outputs": [],
   "source": [
    "import pandas as pd\n",
    "import numpy as np\n",
    "import tensorflow as tf\n",
    "\n",
    "ratings_df = pd.read_csv('/home/work/BigDataPractice/RecommendationEngine/ml-20m/ratings.csv', nrows =10000)\n",
    "movies_df = pd.read_csv('/home/work/BigDataPractice/RecommendationEngine/ml-20m/movies.csv', nrows =10000)\n",
    "\n",
    "movies_df['movieRow'] = movies_df.index #添加电影行数"
   ]
  },
  {
   "cell_type": "code",
   "execution_count": 3,
   "metadata": {},
   "outputs": [
    {
     "data": {
      "text/html": [
       "<div>\n",
       "<style scoped>\n",
       "    .dataframe tbody tr th:only-of-type {\n",
       "        vertical-align: middle;\n",
       "    }\n",
       "\n",
       "    .dataframe tbody tr th {\n",
       "        vertical-align: top;\n",
       "    }\n",
       "\n",
       "    .dataframe thead th {\n",
       "        text-align: right;\n",
       "    }\n",
       "</style>\n",
       "<table border=\"1\" class=\"dataframe\">\n",
       "  <thead>\n",
       "    <tr style=\"text-align: right;\">\n",
       "      <th></th>\n",
       "      <th>userId</th>\n",
       "      <th>movieId</th>\n",
       "      <th>rating</th>\n",
       "      <th>timestamp</th>\n",
       "    </tr>\n",
       "  </thead>\n",
       "  <tbody>\n",
       "    <tr>\n",
       "      <th>9995</th>\n",
       "      <td>91</td>\n",
       "      <td>2797</td>\n",
       "      <td>3.5</td>\n",
       "      <td>1112061221</td>\n",
       "    </tr>\n",
       "    <tr>\n",
       "      <th>9996</th>\n",
       "      <td>91</td>\n",
       "      <td>2857</td>\n",
       "      <td>4.0</td>\n",
       "      <td>1111966776</td>\n",
       "    </tr>\n",
       "    <tr>\n",
       "      <th>9997</th>\n",
       "      <td>91</td>\n",
       "      <td>2858</td>\n",
       "      <td>4.5</td>\n",
       "      <td>1111557477</td>\n",
       "    </tr>\n",
       "    <tr>\n",
       "      <th>9998</th>\n",
       "      <td>91</td>\n",
       "      <td>2863</td>\n",
       "      <td>4.5</td>\n",
       "      <td>1111558557</td>\n",
       "    </tr>\n",
       "    <tr>\n",
       "      <th>9999</th>\n",
       "      <td>91</td>\n",
       "      <td>2890</td>\n",
       "      <td>2.5</td>\n",
       "      <td>1113202901</td>\n",
       "    </tr>\n",
       "  </tbody>\n",
       "</table>\n",
       "</div>"
      ],
      "text/plain": [
       "      userId  movieId  rating   timestamp\n",
       "9995      91     2797     3.5  1112061221\n",
       "9996      91     2857     4.0  1111966776\n",
       "9997      91     2858     4.5  1111557477\n",
       "9998      91     2863     4.5  1111558557\n",
       "9999      91     2890     2.5  1113202901"
      ]
     },
     "execution_count": 3,
     "metadata": {},
     "output_type": "execute_result"
    }
   ],
   "source": [
    "ratings_df.tail()"
   ]
  },
  {
   "cell_type": "code",
   "execution_count": 4,
   "metadata": {},
   "outputs": [
    {
     "data": {
      "text/html": [
       "<div>\n",
       "<style scoped>\n",
       "    .dataframe tbody tr th:only-of-type {\n",
       "        vertical-align: middle;\n",
       "    }\n",
       "\n",
       "    .dataframe tbody tr th {\n",
       "        vertical-align: top;\n",
       "    }\n",
       "\n",
       "    .dataframe thead th {\n",
       "        text-align: right;\n",
       "    }\n",
       "</style>\n",
       "<table border=\"1\" class=\"dataframe\">\n",
       "  <thead>\n",
       "    <tr style=\"text-align: right;\">\n",
       "      <th></th>\n",
       "      <th>movieId</th>\n",
       "      <th>title</th>\n",
       "      <th>genres</th>\n",
       "      <th>movieRow</th>\n",
       "    </tr>\n",
       "  </thead>\n",
       "  <tbody>\n",
       "    <tr>\n",
       "      <th>9995</th>\n",
       "      <td>32864</td>\n",
       "      <td>Move Over, Darling (1963)</td>\n",
       "      <td>Comedy|Romance</td>\n",
       "      <td>9995</td>\n",
       "    </tr>\n",
       "    <tr>\n",
       "      <th>9996</th>\n",
       "      <td>32866</td>\n",
       "      <td>Love Me or Leave Me (1955)</td>\n",
       "      <td>Drama|Musical|Romance</td>\n",
       "      <td>9996</td>\n",
       "    </tr>\n",
       "    <tr>\n",
       "      <th>9997</th>\n",
       "      <td>32875</td>\n",
       "      <td>Holiday (Jour de fête) (1949)</td>\n",
       "      <td>Comedy</td>\n",
       "      <td>9997</td>\n",
       "    </tr>\n",
       "    <tr>\n",
       "      <th>9998</th>\n",
       "      <td>32882</td>\n",
       "      <td>Big Store, The (1941)</td>\n",
       "      <td>Comedy|Musical</td>\n",
       "      <td>9998</td>\n",
       "    </tr>\n",
       "    <tr>\n",
       "      <th>9999</th>\n",
       "      <td>32890</td>\n",
       "      <td>Mother Küsters Goes to Heaven (Mutter Küsters'...</td>\n",
       "      <td>Drama</td>\n",
       "      <td>9999</td>\n",
       "    </tr>\n",
       "  </tbody>\n",
       "</table>\n",
       "</div>"
      ],
      "text/plain": [
       "      movieId                                              title  \\\n",
       "9995    32864                          Move Over, Darling (1963)   \n",
       "9996    32866                         Love Me or Leave Me (1955)   \n",
       "9997    32875                      Holiday (Jour de fête) (1949)   \n",
       "9998    32882                              Big Store, The (1941)   \n",
       "9999    32890  Mother Küsters Goes to Heaven (Mutter Küsters'...   \n",
       "\n",
       "                     genres  movieRow  \n",
       "9995         Comedy|Romance      9995  \n",
       "9996  Drama|Musical|Romance      9996  \n",
       "9997                 Comedy      9997  \n",
       "9998         Comedy|Musical      9998  \n",
       "9999                  Drama      9999  "
      ]
     },
     "execution_count": 4,
     "metadata": {},
     "output_type": "execute_result"
    }
   ],
   "source": [
    "movies_df.tail()"
   ]
  },
  {
   "cell_type": "markdown",
   "metadata": {},
   "source": [
    "# 筛选movies_df中的特征"
   ]
  },
  {
   "cell_type": "code",
   "execution_count": 5,
   "metadata": {},
   "outputs": [],
   "source": [
    "movies_df = movies_df[['movieRow', 'movieId', 'title']]\n",
    "movies_df.to_csv('moviesProcessed.csv', index = False, header = True, encoding = 'utf-8') "
   ]
  },
  {
   "cell_type": "markdown",
   "metadata": {},
   "source": [
    "# 将ratings_df中的moviesId 替换成行号"
   ]
  },
  {
   "cell_type": "code",
   "execution_count": 6,
   "metadata": {},
   "outputs": [],
   "source": [
    "ratings_df = pd.merge(ratings_df, movies_df, on = 'movieId')"
   ]
  },
  {
   "cell_type": "markdown",
   "metadata": {},
   "source": [
    "# 筛选ratings_df中的特征"
   ]
  },
  {
   "cell_type": "code",
   "execution_count": 7,
   "metadata": {},
   "outputs": [],
   "source": [
    "ratings_df = ratings_df[['userId','movieRow','rating']]\n",
    "ratings_df.to_csv('ratingsProcessed.csv',index = False,header = True,encoding = 'utf-8')"
   ]
  },
  {
   "cell_type": "markdown",
   "metadata": {},
   "source": [
    "# 创建电影评分矩阵rating和评分记录矩阵record"
   ]
  },
  {
   "cell_type": "code",
   "execution_count": 8,
   "metadata": {},
   "outputs": [],
   "source": [
    "userNo = ratings_df['userId'].max() + 1\n",
    "movieNo = ratings_df['movieRow'].max() + 1\n",
    "rating = np.zeros((movieNo, userNo))\n",
    "flag = 0 #记录处理进度\n",
    "ratings_df_length = np.shape(ratings_df)[0]\n",
    "for index, row in ratings_df.iterrows():#获取ratings_df的每一行\n",
    "        rating[int(row['movieRow']), int(row['userId'])] = row['rating']\n",
    "        flag += 1 #表示处理完一行\n",
    "#         print('processed %d, %d left'%(flag,ratings_df_length-flag))"
   ]
  },
  {
   "cell_type": "code",
   "execution_count": 9,
   "metadata": {},
   "outputs": [],
   "source": [
    "#将构建record矩阵并将矩阵中的Boolean值改成相应的数值\n",
    "record = rating > 0 \n",
    "record = np.array(record, dtype = int)"
   ]
  },
  {
   "cell_type": "markdown",
   "metadata": {},
   "source": [
    "# 构建模型"
   ]
  },
  {
   "cell_type": "code",
   "execution_count": 10,
   "metadata": {},
   "outputs": [],
   "source": [
    "def normalizeRatings(rating, record): #缩放评分矩阵范围\n",
    "    m,n = rating.shape #m为电影数量，n为用户数量\n",
    "    rating_mean = np.zeros((m, 1)) #初始化电影评分平均值为0\n",
    "    rating_norm = np.zeros((m, n)) #保存处理后的数据\n",
    "    for i in range(m):\n",
    "        idx = record[i, :] != 0 #获取每部电影评分用户的下标，每部电影的评分\n",
    "        rating_mean[i] = np.mean(rating[i, idx]) #表示第i行已经评过分的用户的平均值\n",
    "        rating_norm[i, idx] -= rating_mean[i]\n",
    "    return rating_norm, rating_mean"
   ]
  },
  {
   "cell_type": "code",
   "execution_count": 11,
   "metadata": {},
   "outputs": [
    {
     "name": "stderr",
     "output_type": "stream",
     "text": [
      "/root/anaconda3/lib/python3.7/site-packages/numpy/core/fromnumeric.py:3118: RuntimeWarning: Mean of empty slice.\n",
      "  out=out, **kwargs)\n",
      "/root/anaconda3/lib/python3.7/site-packages/numpy/core/_methods.py:85: RuntimeWarning: invalid value encountered in double_scalars\n",
      "  ret = ret.dtype.type(ret / rcount)\n"
     ]
    },
    {
     "name": "stdout",
     "output_type": "stream",
     "text": [
      "WARNING:tensorflow:From /root/anaconda3/lib/python3.7/site-packages/tensorflow/python/framework/op_def_library.py:263: colocate_with (from tensorflow.python.framework.ops) is deprecated and will be removed in a future version.\n",
      "Instructions for updating:\n",
      "Colocations handled automatically by placer.\n"
     ]
    }
   ],
   "source": [
    "rating_norm,rating_mean = normalizeRatings(rating, record) #由于数据中的某些行有这里会出现警告\n",
    "#处理nan\n",
    "rating_norm = np.nan_to_num(rating_norm)\n",
    "rating_mean = np.nan_to_num(rating_mean)\n",
    "#假设一共有10类电影\n",
    "num_features = 10\n",
    "#初始化电影内容矩阵和用户喜好矩阵，产生的参数都是随机数并且是正态分布的\n",
    "X_parameters = tf.Variable(tf.random_normal([movieNo, num_features], stddev = 0.35))\n",
    "Theta_parameters = tf.Variable(tf.random_normal([userNo, num_features], stddev = 0.35))\n",
    "# 构建损失函数\n",
    "loss = 1/2 * tf.reduce_sum(((tf.matmul(X_parameters, Theta_parameters, transpose_b = True)\n",
    "                             - rating_norm)*record)**2) + 1/2 * (tf.reduce_sum(X_parameters**2) \n",
    "                                                               + tf.reduce_sum(Theta_parameters**2))\n",
    "#将X_parameters，Theta_parameters矩阵相乘相乘之前将Theta_parameters转置\n",
    "#创建优化器和优化目标\n",
    "optimizer = tf.train.AdamOptimizer(1e-4)\n",
    "train = optimizer.minimize(loss)"
   ]
  },
  {
   "cell_type": "markdown",
   "metadata": {},
   "source": [
    "# 训练模型"
   ]
  },
  {
   "cell_type": "code",
   "execution_count": 12,
   "metadata": {},
   "outputs": [],
   "source": [
    "# 使用tensorboard查看loss经迭代后的改变\n",
    "tf.summary.scalar('loss', loss)\n",
    "summaryMerged = tf.summary.merge_all()\n",
    "filename = 'movie_tensorboard'\n",
    "writer = tf.summary.FileWriter(filename)\n",
    "sess = tf.Session()\n",
    "init = tf.global_variables_initializer()\n",
    "sess.run(init)\n",
    "for i in range(5000):\n",
    "    _, movie_summary = sess.run([train, summaryMerged])\n",
    "    writer.add_summary(movie_summary, i)"
   ]
  },
  {
   "cell_type": "markdown",
   "metadata": {},
   "source": [
    "# 评估模型"
   ]
  },
  {
   "cell_type": "code",
   "execution_count": 13,
   "metadata": {},
   "outputs": [],
   "source": [
    "Current_X_parameters, Current_Theta_parameters = sess.run([X_parameters, Theta_parameters])\n",
    "predicts = np.dot(Current_X_parameters, Current_Theta_parameters.T) + rating_mean\n",
    "errors = np.sqrt(np.sum((predicts - rating) ** 2))"
   ]
  },
  {
   "cell_type": "markdown",
   "metadata": {},
   "source": [
    "# 构建推荐系统"
   ]
  },
  {
   "cell_type": "code",
   "execution_count": 17,
   "metadata": {},
   "outputs": [
    {
     "name": "stdout",
     "output_type": "stream",
     "text": [
      "请输入要推荐的用户编号：66\n",
      "===============================该用户推荐的评分最高的10部电影是：===============================\n",
      "评分：5.93,电影名：Taking of Pelham One Two Three, The (1974)\n",
      "评分：5.64,电影名：Cup, The (Phörpa) (1999)\n",
      "评分：5.45,电影名：Coyote Ugly (2000)\n",
      "评分：5.25,电影名：Iron Eagle (1986)\n",
      "评分：5.11,电影名：Master and Commander: The Far Side of the World (2003)\n",
      "评分：4.82,电影名：Great Dictator, The (1940)\n",
      "评分：4.80,电影名：Bat*21 (1988)\n",
      "评分：4.65,电影名：Transporter, The (2002)\n",
      "评分：4.52,电影名：Man and a Woman, A (Un homme et une femme) (1966)\n",
      "评分：4.43,电影名：Lilo & Stitch (2002)\n"
     ]
    }
   ],
   "source": [
    "user_id = input('请输入要推荐的用户编号：')\n",
    "sortedResult = predicts[:, int(user_id)].argsort()[::-1]#获取该用户的电影评分列表\n",
    "idx =0\n",
    "print('该用户推荐的评分最高的10部电影是：'.center(80,'='))\n",
    "for i in sortedResult:\n",
    "    print('评分：%.2f,电影名：%s'%(predicts[i,int(user_id)], movies_df.iloc[i]['title']))\n",
    "    idx +=1\n",
    "    if idx == 10:break"
   ]
  },
  {
   "cell_type": "code",
   "execution_count": null,
   "metadata": {},
   "outputs": [],
   "source": []
  }
 ],
 "metadata": {
  "kernelspec": {
   "display_name": "Python 3",
   "language": "python",
   "name": "python3"
  },
  "language_info": {
   "codemirror_mode": {
    "name": "ipython",
    "version": 3
   },
   "file_extension": ".py",
   "mimetype": "text/x-python",
   "name": "python",
   "nbconvert_exporter": "python",
   "pygments_lexer": "ipython3",
   "version": "3.7.3"
  }
 },
 "nbformat": 4,
 "nbformat_minor": 2
}
