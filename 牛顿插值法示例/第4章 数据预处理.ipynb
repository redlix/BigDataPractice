{
 "cells": [
  {
   "cell_type": "markdown",
   "metadata": {},
   "source": [
    "# 4. 数据预处理\n",
    "1. 数据清洗\n",
    "2. 数据集成\n",
    "3. 数据变换\n",
    "4. 数据规约\n",
    "\n",
    "## 4.1 数据清洗\n",
    "- 删除原始数据中的无关数据、重复数据、平滑噪声数据、与挖掘主题无关的数据、缺失值等\n",
    "- 处理缺失值、异常值\n",
    "\n",
    "### 4.1.1 缺失值处理\n",
    "1. 删除记录\n",
    "2. 数据插补\n",
    "3. 不处理\n",
    "\n",
    "#### 数据插补\n",
    "1. 均值/中位数/众数\n",
    "2. 固定值\n",
    "3. 最近临插补   ：在记录中找到与缺失样本最接近的样本的该属性进行插补\n",
    "4. 回归方法     \n",
    "5. 插值法       ：利用已知点建立合适的插值函数$f(x)$，未知值由对应点$x_i$求出的函数值$f(x_i)$近似替代\n",
    "\n",
    "`如果通过简单删除小部分记录达到既定的目标，那么删除含有缺失值的记录的方法是最有效的（但局限性很大）`\n",
    "\n",
    "**插值法：** \n",
    "1. 拉格朗日插值法\n",
    "2. 牛顿插值法\n",
    "3. Hermite插值法\n",
    "4. 分段插值法\n",
    "5. 样条插值法\n",
    "\n",
    "**（1）拉格朗日插值法**   \n",
    "拉格朗日插值法是以法国十八世纪数学家约瑟夫·拉格朗日命名的一种多项式插值方法。许多实际问题中都用函数来表示某种内在联系或规律，而不少函数都只能通过实验和观测来了解。如对实践中的某个物理量进行观测，在若干个不同的地方得到相应的观测值，拉格朗日插值法可以找到一个多项式，其恰好在各个观测的点取到观测到的值。这样的多项式称为拉格朗日（插值）多项式。   \n",
    "即对于平面上已知的$n$个点（无两点在一条直线上），可以找到一个$n-1$次多项式$y=a_0+a_1x+a_2x^2+...+a_{n-1}x^{n-1}$，使得此多项式曲线过这$n$个个点。  \n",
    "1. 求已知的过$n$个点的$n-1$次多项式：  \n",
    "$y=a_0+a_1x+a_2x^2+...+a_{n-1}x^{n-1}     （4.1）$   \n",
    "将n个点的坐标$(x_1,y_1),(x_2,y_2),...,(x_n,y_n)$代入多项式函数得：  \n",
    "$y_1=a_0+a_1x_1+a_2x_1^2+...+a_{n-1}x_{1}^{n-1}$  \n",
    "$y_2=a_0+a_1x_2+a_2x_2^2+...+a_{n-1}x_{2}^{n-1}$  \n",
    "...  \n",
    "$y_n=a_0+a_1x_n+a_2x_n^2+...+a_{n-1}x_{n}^{n-1}$  \n",
    "解出拉格朗日插值多项式为： （推导过程） \n",
    "$L(x) = y_1 \\frac{(x-x_2)(x-x_3)...(x-x_n)}{(x_1-x_2)(x_1-x_3)...(x_1-x_n)} + y_2 \\frac{(x-x_1)(x-x_3)...(x-x_n)}{(x_2-x_1)(x_2-x_3)...(x_2-x_n)} + ... + y_n \\frac{(x-x_1)(x-x_2)...(x-x_{n-1})}{(x_n-x_1)(x_n-x_2)...(x_n-x_{n-1})} = \\sum_{i=0}^{n}{y_i}\\prod^{n}_{j=0,j\\neq{i}}{\\frac{x-x_j}{x_i-x_j}}$"
   ]
  },
  {
   "cell_type": "code",
   "execution_count": 1,
   "metadata": {},
   "outputs": [
    {
     "name": "stdout",
     "output_type": "stream",
     "text": [
      " 驱动器 F 中的卷没有标签。\n",
      " 卷的序列号是 000B-2B23\n",
      "\n",
      " f:\\CODE\\AI\\ai\\2.入门课程\\Python数据科学分析实战-中级\\chapter4 数据预处理 的目录\n",
      "\n",
      "2019/04/28  23:10    <DIR>          .\n",
      "2019/04/28  23:10    <DIR>          ..\n",
      "2019/04/23  18:39    <DIR>          .ipynb_checkpoints\n",
      "2019/04/23  14:01    <DIR>          demo\n",
      "2019/04/28  23:10            72,970 第4章 数据预处理.ipynb\n",
      "               1 个文件         72,970 字节\n",
      "               4 个目录 164,875,034,624 可用字节\n"
     ]
    }
   ],
   "source": [
    "!dir"
   ]
  },
  {
   "cell_type": "code",
   "execution_count": 2,
   "metadata": {},
   "outputs": [],
   "source": [
    "import pandas as pd\n",
    "from scipy.interpolate import lagrange # 导入拉格朗日函数"
   ]
  },
  {
   "cell_type": "code",
   "execution_count": 3,
   "metadata": {},
   "outputs": [
    {
     "name": "stdout",
     "output_type": "stream",
     "text": [
      "<class 'pandas.core.frame.DataFrame'>\n",
      "RangeIndex: 201 entries, 0 to 200\n",
      "Data columns (total 2 columns):\n",
      "日期    201 non-null datetime64[ns]\n",
      "销量    200 non-null float64\n",
      "dtypes: datetime64[ns](1), float64(1)\n",
      "memory usage: 3.2 KB\n"
     ]
    }
   ],
   "source": [
    "data = pd.read_excel(\"demo/data/catering_sale.xls\")\n",
    "data.info()"
   ]
  },
  {
   "cell_type": "code",
   "execution_count": 4,
   "metadata": {},
   "outputs": [
    {
     "data": {
      "text/html": [
       "<div>\n",
       "<style scoped>\n",
       "    .dataframe tbody tr th:only-of-type {\n",
       "        vertical-align: middle;\n",
       "    }\n",
       "\n",
       "    .dataframe tbody tr th {\n",
       "        vertical-align: top;\n",
       "    }\n",
       "\n",
       "    .dataframe thead th {\n",
       "        text-align: right;\n",
       "    }\n",
       "</style>\n",
       "<table border=\"1\" class=\"dataframe\">\n",
       "  <thead>\n",
       "    <tr style=\"text-align: right;\">\n",
       "      <th></th>\n",
       "      <th>日期</th>\n",
       "      <th>销量</th>\n",
       "    </tr>\n",
       "  </thead>\n",
       "  <tbody>\n",
       "    <tr>\n",
       "      <th>0</th>\n",
       "      <td>2015-03-01</td>\n",
       "      <td>51.0</td>\n",
       "    </tr>\n",
       "    <tr>\n",
       "      <th>1</th>\n",
       "      <td>2015-02-28</td>\n",
       "      <td>2618.2</td>\n",
       "    </tr>\n",
       "    <tr>\n",
       "      <th>2</th>\n",
       "      <td>2015-02-27</td>\n",
       "      <td>2608.4</td>\n",
       "    </tr>\n",
       "    <tr>\n",
       "      <th>3</th>\n",
       "      <td>2015-02-26</td>\n",
       "      <td>2651.9</td>\n",
       "    </tr>\n",
       "    <tr>\n",
       "      <th>4</th>\n",
       "      <td>2015-02-25</td>\n",
       "      <td>3442.1</td>\n",
       "    </tr>\n",
       "  </tbody>\n",
       "</table>\n",
       "</div>"
      ],
      "text/plain": [
       "          日期      销量\n",
       "0 2015-03-01    51.0\n",
       "1 2015-02-28  2618.2\n",
       "2 2015-02-27  2608.4\n",
       "3 2015-02-26  2651.9\n",
       "4 2015-02-25  3442.1"
      ]
     },
     "execution_count": 4,
     "metadata": {},
     "output_type": "execute_result"
    }
   ],
   "source": [
    "data.head()"
   ]
  },
  {
   "cell_type": "code",
   "execution_count": 5,
   "metadata": {},
   "outputs": [
    {
     "data": {
      "text/html": [
       "<div>\n",
       "<style scoped>\n",
       "    .dataframe tbody tr th:only-of-type {\n",
       "        vertical-align: middle;\n",
       "    }\n",
       "\n",
       "    .dataframe tbody tr th {\n",
       "        vertical-align: top;\n",
       "    }\n",
       "\n",
       "    .dataframe thead th {\n",
       "        text-align: right;\n",
       "    }\n",
       "</style>\n",
       "<table border=\"1\" class=\"dataframe\">\n",
       "  <thead>\n",
       "    <tr style=\"text-align: right;\">\n",
       "      <th></th>\n",
       "      <th>销量</th>\n",
       "    </tr>\n",
       "  </thead>\n",
       "  <tbody>\n",
       "    <tr>\n",
       "      <th>count</th>\n",
       "      <td>200.000000</td>\n",
       "    </tr>\n",
       "    <tr>\n",
       "      <th>mean</th>\n",
       "      <td>2755.214700</td>\n",
       "    </tr>\n",
       "    <tr>\n",
       "      <th>std</th>\n",
       "      <td>751.029772</td>\n",
       "    </tr>\n",
       "    <tr>\n",
       "      <th>min</th>\n",
       "      <td>22.000000</td>\n",
       "    </tr>\n",
       "    <tr>\n",
       "      <th>25%</th>\n",
       "      <td>2451.975000</td>\n",
       "    </tr>\n",
       "    <tr>\n",
       "      <th>50%</th>\n",
       "      <td>2655.850000</td>\n",
       "    </tr>\n",
       "    <tr>\n",
       "      <th>75%</th>\n",
       "      <td>3026.125000</td>\n",
       "    </tr>\n",
       "    <tr>\n",
       "      <th>max</th>\n",
       "      <td>9106.440000</td>\n",
       "    </tr>\n",
       "  </tbody>\n",
       "</table>\n",
       "</div>"
      ],
      "text/plain": [
       "                销量\n",
       "count   200.000000\n",
       "mean   2755.214700\n",
       "std     751.029772\n",
       "min      22.000000\n",
       "25%    2451.975000\n",
       "50%    2655.850000\n",
       "75%    3026.125000\n",
       "max    9106.440000"
      ]
     },
     "execution_count": 5,
     "metadata": {},
     "output_type": "execute_result"
    }
   ],
   "source": [
    "data.describe()"
   ]
  },
  {
   "cell_type": "code",
   "execution_count": 6,
   "metadata": {},
   "outputs": [
    {
     "data": {
      "text/plain": [
       "<matplotlib.axes._subplots.AxesSubplot at 0x2c788c6a908>"
      ]
     },
     "execution_count": 6,
     "metadata": {},
     "output_type": "execute_result"
    }
   ],
   "source": [
    "data['销量'].plot()"
   ]
  },
  {
   "cell_type": "code",
   "execution_count": 7,
   "metadata": {},
   "outputs": [
    {
     "name": "stderr",
     "output_type": "stream",
     "text": [
      "D:\\Program Files (x86)\\Microsoft Visual Studio\\Shared\\Anaconda3_64\\lib\\site-packages\\ipykernel_launcher.py:2: SettingWithCopyWarning: \n",
      "A value is trying to be set on a copy of a slice from a DataFrame\n",
      "\n",
      "See the caveats in the documentation: http://pandas.pydata.org/pandas-docs/stable/indexing.html#indexing-view-versus-copy\n",
      "  \n"
     ]
    }
   ],
   "source": [
    "# 过滤异常值\n",
    "data['销量'][(data['销量'] < 400) | (data['销量'] > 5000)] = None"
   ]
  },
  {
   "cell_type": "code",
   "execution_count": 8,
   "metadata": {},
   "outputs": [
    {
     "data": {
      "text/html": [
       "<div>\n",
       "<style scoped>\n",
       "    .dataframe tbody tr th:only-of-type {\n",
       "        vertical-align: middle;\n",
       "    }\n",
       "\n",
       "    .dataframe tbody tr th {\n",
       "        vertical-align: top;\n",
       "    }\n",
       "\n",
       "    .dataframe thead th {\n",
       "        text-align: right;\n",
       "    }\n",
       "</style>\n",
       "<table border=\"1\" class=\"dataframe\">\n",
       "  <thead>\n",
       "    <tr style=\"text-align: right;\">\n",
       "      <th></th>\n",
       "      <th>日期</th>\n",
       "      <th>销量</th>\n",
       "    </tr>\n",
       "  </thead>\n",
       "  <tbody>\n",
       "    <tr>\n",
       "      <th>0</th>\n",
       "      <td>2015-03-01</td>\n",
       "      <td>NaN</td>\n",
       "    </tr>\n",
       "    <tr>\n",
       "      <th>1</th>\n",
       "      <td>2015-02-28</td>\n",
       "      <td>2618.2</td>\n",
       "    </tr>\n",
       "    <tr>\n",
       "      <th>2</th>\n",
       "      <td>2015-02-27</td>\n",
       "      <td>2608.4</td>\n",
       "    </tr>\n",
       "    <tr>\n",
       "      <th>3</th>\n",
       "      <td>2015-02-26</td>\n",
       "      <td>2651.9</td>\n",
       "    </tr>\n",
       "    <tr>\n",
       "      <th>4</th>\n",
       "      <td>2015-02-25</td>\n",
       "      <td>3442.1</td>\n",
       "    </tr>\n",
       "  </tbody>\n",
       "</table>\n",
       "</div>"
      ],
      "text/plain": [
       "          日期      销量\n",
       "0 2015-03-01     NaN\n",
       "1 2015-02-28  2618.2\n",
       "2 2015-02-27  2608.4\n",
       "3 2015-02-26  2651.9\n",
       "4 2015-02-25  3442.1"
      ]
     },
     "execution_count": 8,
     "metadata": {},
     "output_type": "execute_result"
    }
   ],
   "source": [
    "data.head()"
   ]
  },
  {
   "cell_type": "code",
   "execution_count": 9,
   "metadata": {},
   "outputs": [
    {
     "name": "stdout",
     "output_type": "stream",
     "text": [
      "<class 'pandas.core.frame.DataFrame'>\n",
      "RangeIndex: 201 entries, 0 to 200\n",
      "Data columns (total 2 columns):\n",
      "日期    201 non-null datetime64[ns]\n",
      "销量    195 non-null float64\n",
      "dtypes: datetime64[ns](1), float64(1)\n",
      "memory usage: 3.2 KB\n"
     ]
    }
   ],
   "source": [
    "data.info()"
   ]
  },
  {
   "cell_type": "code",
   "execution_count": 10,
   "metadata": {},
   "outputs": [
    {
     "data": {
      "text/html": [
       "<div>\n",
       "<style scoped>\n",
       "    .dataframe tbody tr th:only-of-type {\n",
       "        vertical-align: middle;\n",
       "    }\n",
       "\n",
       "    .dataframe tbody tr th {\n",
       "        vertical-align: top;\n",
       "    }\n",
       "\n",
       "    .dataframe thead th {\n",
       "        text-align: right;\n",
       "    }\n",
       "</style>\n",
       "<table border=\"1\" class=\"dataframe\">\n",
       "  <thead>\n",
       "    <tr style=\"text-align: right;\">\n",
       "      <th></th>\n",
       "      <th>日期</th>\n",
       "      <th>销量</th>\n",
       "    </tr>\n",
       "  </thead>\n",
       "  <tbody>\n",
       "    <tr>\n",
       "      <th>0</th>\n",
       "      <td>2015-03-01</td>\n",
       "      <td>NaN</td>\n",
       "    </tr>\n",
       "    <tr>\n",
       "      <th>8</th>\n",
       "      <td>2015-02-21</td>\n",
       "      <td>NaN</td>\n",
       "    </tr>\n",
       "    <tr>\n",
       "      <th>14</th>\n",
       "      <td>2015-02-14</td>\n",
       "      <td>NaN</td>\n",
       "    </tr>\n",
       "    <tr>\n",
       "      <th>103</th>\n",
       "      <td>2014-11-08</td>\n",
       "      <td>NaN</td>\n",
       "    </tr>\n",
       "    <tr>\n",
       "      <th>110</th>\n",
       "      <td>2014-11-01</td>\n",
       "      <td>NaN</td>\n",
       "    </tr>\n",
       "    <tr>\n",
       "      <th>144</th>\n",
       "      <td>2014-09-27</td>\n",
       "      <td>NaN</td>\n",
       "    </tr>\n",
       "  </tbody>\n",
       "</table>\n",
       "</div>"
      ],
      "text/plain": [
       "            日期  销量\n",
       "0   2015-03-01 NaN\n",
       "8   2015-02-21 NaN\n",
       "14  2015-02-14 NaN\n",
       "103 2014-11-08 NaN\n",
       "110 2014-11-01 NaN\n",
       "144 2014-09-27 NaN"
      ]
     },
     "execution_count": 10,
     "metadata": {},
     "output_type": "execute_result"
    }
   ],
   "source": [
    "data[data[u'销量'].isnull()]"
   ]
  },
  {
   "cell_type": "code",
   "execution_count": 11,
   "metadata": {},
   "outputs": [],
   "source": [
    "#自定义列向量插值函数\n",
    "#s为列向量，n为被插值的位置，k为取前后的数据个数，默认为5\n",
    "def ployinterp_column(s,n,k=5):\n",
    "    y = s[list(range(n-k, n)) + list(range(n+1, n+1+k))] #取数\n",
    "    y = y[y.notnull()] # 剔除空值\n",
    "    return lagrange(y.index,list(y))(n) #插值计算并返回插值结果"
   ]
  },
  {
   "cell_type": "code",
   "execution_count": 12,
   "metadata": {},
   "outputs": [
    {
     "name": "stderr",
     "output_type": "stream",
     "text": [
      "D:\\Program Files (x86)\\Microsoft Visual Studio\\Shared\\Anaconda3_64\\lib\\site-packages\\pandas\\core\\series.py:841: FutureWarning: \n",
      "Passing list-likes to .loc or [] with any missing label will raise\n",
      "KeyError in the future, you can use .reindex() as an alternative.\n",
      "\n",
      "See the documentation here:\n",
      "https://pandas.pydata.org/pandas-docs/stable/indexing.html#deprecate-loc-reindex-listlike\n",
      "  return self.loc[key]\n",
      "D:\\Program Files (x86)\\Microsoft Visual Studio\\Shared\\Anaconda3_64\\lib\\site-packages\\ipykernel_launcher.py:5: SettingWithCopyWarning: \n",
      "A value is trying to be set on a copy of a slice from a DataFrame\n",
      "\n",
      "See the caveats in the documentation: http://pandas.pydata.org/pandas-docs/stable/indexing.html#indexing-view-versus-copy\n",
      "  \"\"\"\n"
     ]
    }
   ],
   "source": [
    "#逐个元素判断是否需要插值\n",
    "for i in data.columns:\n",
    "    for j in range(len(data)):\n",
    "        if (data[i].isnull())[j]: #如果为空即插值。\n",
    "            data[i][j] = ployinterp_column(data[i], j)"
   ]
  },
  {
   "cell_type": "code",
   "execution_count": 13,
   "metadata": {},
   "outputs": [
    {
     "data": {
      "text/html": [
       "<div>\n",
       "<style scoped>\n",
       "    .dataframe tbody tr th:only-of-type {\n",
       "        vertical-align: middle;\n",
       "    }\n",
       "\n",
       "    .dataframe tbody tr th {\n",
       "        vertical-align: top;\n",
       "    }\n",
       "\n",
       "    .dataframe thead th {\n",
       "        text-align: right;\n",
       "    }\n",
       "</style>\n",
       "<table border=\"1\" class=\"dataframe\">\n",
       "  <thead>\n",
       "    <tr style=\"text-align: right;\">\n",
       "      <th></th>\n",
       "      <th>日期</th>\n",
       "      <th>销量</th>\n",
       "    </tr>\n",
       "  </thead>\n",
       "  <tbody>\n",
       "    <tr>\n",
       "      <th>0</th>\n",
       "      <td>2015-03-01</td>\n",
       "      <td>-291.400000</td>\n",
       "    </tr>\n",
       "    <tr>\n",
       "      <th>8</th>\n",
       "      <td>2015-02-21</td>\n",
       "      <td>4275.254762</td>\n",
       "    </tr>\n",
       "    <tr>\n",
       "      <th>14</th>\n",
       "      <td>2015-02-14</td>\n",
       "      <td>4156.860423</td>\n",
       "    </tr>\n",
       "    <tr>\n",
       "      <th>103</th>\n",
       "      <td>2014-11-08</td>\n",
       "      <td>96.000000</td>\n",
       "    </tr>\n",
       "    <tr>\n",
       "      <th>110</th>\n",
       "      <td>2014-11-01</td>\n",
       "      <td>6720.000000</td>\n",
       "    </tr>\n",
       "    <tr>\n",
       "      <th>144</th>\n",
       "      <td>2014-09-27</td>\n",
       "      <td>-75744.000000</td>\n",
       "    </tr>\n",
       "  </tbody>\n",
       "</table>\n",
       "</div>"
      ],
      "text/plain": [
       "            日期            销量\n",
       "0   2015-03-01   -291.400000\n",
       "8   2015-02-21   4275.254762\n",
       "14  2015-02-14   4156.860423\n",
       "103 2014-11-08     96.000000\n",
       "110 2014-11-01   6720.000000\n",
       "144 2014-09-27 -75744.000000"
      ]
     },
     "execution_count": 13,
     "metadata": {},
     "output_type": "execute_result"
    }
   ],
   "source": [
    "# 根据索引查看数据\n",
    "data.iloc[[0,8,14,103,110,144],:]"
   ]
  },
  {
   "cell_type": "markdown",
   "metadata": {},
   "source": [
    "## 拉格朗日插值法优点与缺点\n",
    "拉格朗日插值法的公式结构整齐紧凑，在理论分析中十分方便，然而在计算中，当插值点增加或减少一个时，所对应的基本多项式就需要全部重新计算，于是整个公式都会变化，非常繁琐。这时可以用重心拉格朗日插值法或牛顿插值法来代替。此外，当插值点比较多的时候，拉格朗日插值多项式的次数可能会很高，因此具有数值不稳定的特点，也就是说尽管在已知的几个点取到给定的数值，但在附近却会和“实际上”的值之间有很大的偏差（如0,103,110，114）。这类现象也被称为龙格现象，解决的办法是分段用较低次数的插值多项式。例如重心拉格朗日插值法等。\n",
    "\n",
    "## 异常值处理\n",
    "1. 删除含有异常值的记录\n",
    "2. 视为缺失值\n",
    "3. 平均值修正：使用前后另两个观测值得平均值修正\n",
    "4. 不处理\n",
    "\n",
    "## 4.2 数据集成\n",
    "将多个数据源合并存放在一个一致的数据存储中的过程。\n",
    "\n",
    "### 4.2.1 实体识别\n",
    "- 同名异义 ： 比如不同表的ID\n",
    "- 异名同义 ： \n",
    "- 单位不统一\n",
    "\n",
    "### 4.2.2 冗余属性识别\n",
    "- 同一属性多次出现\n",
    "- 同一属性命名不一致导致重复\n",
    "\n",
    "## 4.3 数据变换\n",
    "\n",
    "### 4.3.1 简单函数变换\n",
    "数据压缩是常用的一种变换方式\n",
    "\n",
    "### 4.3.2 规范化\n",
    "1. 最小-最大规范化（离差标准化）    \n",
    "$x^*=\\frac{x-min}{max-min}$\n",
    "2. 零-均值规范化    \n",
    "$x^*=\\frac{x-\\overline{x}}{\\sigma}$  \n",
    "处理后的数据均值为0，标准差为1.$\\sigma$为原始数据的标准差，是当前最常使用的方法\n",
    "3. 小数定标规范化  \n",
    "通过移动属性值的小数位数，将属性值映射到[-1,1]之间，移动的小数位数取决于属性值绝对值的最大值.   \n",
    "$x^*=\\frac{x}{10^k}$"
   ]
  },
  {
   "cell_type": "code",
   "execution_count": 14,
   "metadata": {},
   "outputs": [
    {
     "data": {
      "text/html": [
       "<div>\n",
       "<style scoped>\n",
       "    .dataframe tbody tr th:only-of-type {\n",
       "        vertical-align: middle;\n",
       "    }\n",
       "\n",
       "    .dataframe tbody tr th {\n",
       "        vertical-align: top;\n",
       "    }\n",
       "\n",
       "    .dataframe thead th {\n",
       "        text-align: right;\n",
       "    }\n",
       "</style>\n",
       "<table border=\"1\" class=\"dataframe\">\n",
       "  <thead>\n",
       "    <tr style=\"text-align: right;\">\n",
       "      <th></th>\n",
       "      <th>0</th>\n",
       "      <th>1</th>\n",
       "      <th>2</th>\n",
       "      <th>3</th>\n",
       "    </tr>\n",
       "  </thead>\n",
       "  <tbody>\n",
       "    <tr>\n",
       "      <th>0</th>\n",
       "      <td>78</td>\n",
       "      <td>521</td>\n",
       "      <td>602</td>\n",
       "      <td>2863</td>\n",
       "    </tr>\n",
       "    <tr>\n",
       "      <th>1</th>\n",
       "      <td>144</td>\n",
       "      <td>-600</td>\n",
       "      <td>-521</td>\n",
       "      <td>2245</td>\n",
       "    </tr>\n",
       "    <tr>\n",
       "      <th>2</th>\n",
       "      <td>95</td>\n",
       "      <td>-457</td>\n",
       "      <td>468</td>\n",
       "      <td>-1283</td>\n",
       "    </tr>\n",
       "    <tr>\n",
       "      <th>3</th>\n",
       "      <td>69</td>\n",
       "      <td>596</td>\n",
       "      <td>695</td>\n",
       "      <td>1054</td>\n",
       "    </tr>\n",
       "    <tr>\n",
       "      <th>4</th>\n",
       "      <td>190</td>\n",
       "      <td>527</td>\n",
       "      <td>691</td>\n",
       "      <td>2051</td>\n",
       "    </tr>\n",
       "    <tr>\n",
       "      <th>5</th>\n",
       "      <td>101</td>\n",
       "      <td>403</td>\n",
       "      <td>470</td>\n",
       "      <td>2487</td>\n",
       "    </tr>\n",
       "    <tr>\n",
       "      <th>6</th>\n",
       "      <td>146</td>\n",
       "      <td>413</td>\n",
       "      <td>435</td>\n",
       "      <td>2571</td>\n",
       "    </tr>\n",
       "  </tbody>\n",
       "</table>\n",
       "</div>"
      ],
      "text/plain": [
       "     0    1    2     3\n",
       "0   78  521  602  2863\n",
       "1  144 -600 -521  2245\n",
       "2   95 -457  468 -1283\n",
       "3   69  596  695  1054\n",
       "4  190  527  691  2051\n",
       "5  101  403  470  2487\n",
       "6  146  413  435  2571"
      ]
     },
     "execution_count": 14,
     "metadata": {},
     "output_type": "execute_result"
    }
   ],
   "source": [
    "import pandas as pd\n",
    "import numpy as np\n",
    "\n",
    "datafile = 'demo/data/normalization_data.xls' #参数初始化\n",
    "data = pd.read_excel(datafile, header = None) #读取数据\n",
    "data"
   ]
  },
  {
   "cell_type": "code",
   "execution_count": 15,
   "metadata": {},
   "outputs": [
    {
     "data": {
      "text/html": [
       "<div>\n",
       "<style scoped>\n",
       "    .dataframe tbody tr th:only-of-type {\n",
       "        vertical-align: middle;\n",
       "    }\n",
       "\n",
       "    .dataframe tbody tr th {\n",
       "        vertical-align: top;\n",
       "    }\n",
       "\n",
       "    .dataframe thead th {\n",
       "        text-align: right;\n",
       "    }\n",
       "</style>\n",
       "<table border=\"1\" class=\"dataframe\">\n",
       "  <thead>\n",
       "    <tr style=\"text-align: right;\">\n",
       "      <th></th>\n",
       "      <th>0</th>\n",
       "      <th>1</th>\n",
       "      <th>2</th>\n",
       "      <th>3</th>\n",
       "    </tr>\n",
       "  </thead>\n",
       "  <tbody>\n",
       "    <tr>\n",
       "      <th>0</th>\n",
       "      <td>0.074380</td>\n",
       "      <td>0.937291</td>\n",
       "      <td>0.923520</td>\n",
       "      <td>1.000000</td>\n",
       "    </tr>\n",
       "    <tr>\n",
       "      <th>1</th>\n",
       "      <td>0.619835</td>\n",
       "      <td>0.000000</td>\n",
       "      <td>0.000000</td>\n",
       "      <td>0.850941</td>\n",
       "    </tr>\n",
       "    <tr>\n",
       "      <th>2</th>\n",
       "      <td>0.214876</td>\n",
       "      <td>0.119565</td>\n",
       "      <td>0.813322</td>\n",
       "      <td>0.000000</td>\n",
       "    </tr>\n",
       "    <tr>\n",
       "      <th>3</th>\n",
       "      <td>0.000000</td>\n",
       "      <td>1.000000</td>\n",
       "      <td>1.000000</td>\n",
       "      <td>0.563676</td>\n",
       "    </tr>\n",
       "    <tr>\n",
       "      <th>4</th>\n",
       "      <td>1.000000</td>\n",
       "      <td>0.942308</td>\n",
       "      <td>0.996711</td>\n",
       "      <td>0.804149</td>\n",
       "    </tr>\n",
       "    <tr>\n",
       "      <th>5</th>\n",
       "      <td>0.264463</td>\n",
       "      <td>0.838629</td>\n",
       "      <td>0.814967</td>\n",
       "      <td>0.909310</td>\n",
       "    </tr>\n",
       "    <tr>\n",
       "      <th>6</th>\n",
       "      <td>0.636364</td>\n",
       "      <td>0.846990</td>\n",
       "      <td>0.786184</td>\n",
       "      <td>0.929571</td>\n",
       "    </tr>\n",
       "  </tbody>\n",
       "</table>\n",
       "</div>"
      ],
      "text/plain": [
       "          0         1         2         3\n",
       "0  0.074380  0.937291  0.923520  1.000000\n",
       "1  0.619835  0.000000  0.000000  0.850941\n",
       "2  0.214876  0.119565  0.813322  0.000000\n",
       "3  0.000000  1.000000  1.000000  0.563676\n",
       "4  1.000000  0.942308  0.996711  0.804149\n",
       "5  0.264463  0.838629  0.814967  0.909310\n",
       "6  0.636364  0.846990  0.786184  0.929571"
      ]
     },
     "execution_count": 15,
     "metadata": {},
     "output_type": "execute_result"
    }
   ],
   "source": [
    "(data - data.min())/(data.max() - data.min()) #最小-最大规范化"
   ]
  },
  {
   "cell_type": "code",
   "execution_count": 16,
   "metadata": {},
   "outputs": [
    {
     "data": {
      "text/html": [
       "<div>\n",
       "<style scoped>\n",
       "    .dataframe tbody tr th:only-of-type {\n",
       "        vertical-align: middle;\n",
       "    }\n",
       "\n",
       "    .dataframe tbody tr th {\n",
       "        vertical-align: top;\n",
       "    }\n",
       "\n",
       "    .dataframe thead th {\n",
       "        text-align: right;\n",
       "    }\n",
       "</style>\n",
       "<table border=\"1\" class=\"dataframe\">\n",
       "  <thead>\n",
       "    <tr style=\"text-align: right;\">\n",
       "      <th></th>\n",
       "      <th>0</th>\n",
       "      <th>1</th>\n",
       "      <th>2</th>\n",
       "      <th>3</th>\n",
       "    </tr>\n",
       "  </thead>\n",
       "  <tbody>\n",
       "    <tr>\n",
       "      <th>0</th>\n",
       "      <td>-0.905383</td>\n",
       "      <td>0.635863</td>\n",
       "      <td>0.464531</td>\n",
       "      <td>0.798149</td>\n",
       "    </tr>\n",
       "    <tr>\n",
       "      <th>1</th>\n",
       "      <td>0.604678</td>\n",
       "      <td>-1.587675</td>\n",
       "      <td>-2.193167</td>\n",
       "      <td>0.369390</td>\n",
       "    </tr>\n",
       "    <tr>\n",
       "      <th>2</th>\n",
       "      <td>-0.516428</td>\n",
       "      <td>-1.304030</td>\n",
       "      <td>0.147406</td>\n",
       "      <td>-2.078279</td>\n",
       "    </tr>\n",
       "    <tr>\n",
       "      <th>3</th>\n",
       "      <td>-1.111301</td>\n",
       "      <td>0.784628</td>\n",
       "      <td>0.684625</td>\n",
       "      <td>-0.456906</td>\n",
       "    </tr>\n",
       "    <tr>\n",
       "      <th>4</th>\n",
       "      <td>1.657146</td>\n",
       "      <td>0.647765</td>\n",
       "      <td>0.675159</td>\n",
       "      <td>0.234796</td>\n",
       "    </tr>\n",
       "    <tr>\n",
       "      <th>5</th>\n",
       "      <td>-0.379150</td>\n",
       "      <td>0.401807</td>\n",
       "      <td>0.152139</td>\n",
       "      <td>0.537286</td>\n",
       "    </tr>\n",
       "    <tr>\n",
       "      <th>6</th>\n",
       "      <td>0.650438</td>\n",
       "      <td>0.421642</td>\n",
       "      <td>0.069308</td>\n",
       "      <td>0.595564</td>\n",
       "    </tr>\n",
       "  </tbody>\n",
       "</table>\n",
       "</div>"
      ],
      "text/plain": [
       "          0         1         2         3\n",
       "0 -0.905383  0.635863  0.464531  0.798149\n",
       "1  0.604678 -1.587675 -2.193167  0.369390\n",
       "2 -0.516428 -1.304030  0.147406 -2.078279\n",
       "3 -1.111301  0.784628  0.684625 -0.456906\n",
       "4  1.657146  0.647765  0.675159  0.234796\n",
       "5 -0.379150  0.401807  0.152139  0.537286\n",
       "6  0.650438  0.421642  0.069308  0.595564"
      ]
     },
     "execution_count": 16,
     "metadata": {},
     "output_type": "execute_result"
    }
   ],
   "source": [
    "(data - data.mean())/data.std() #零-均值规范化"
   ]
  },
  {
   "cell_type": "code",
   "execution_count": 17,
   "metadata": {},
   "outputs": [
    {
     "data": {
      "text/html": [
       "<div>\n",
       "<style scoped>\n",
       "    .dataframe tbody tr th:only-of-type {\n",
       "        vertical-align: middle;\n",
       "    }\n",
       "\n",
       "    .dataframe tbody tr th {\n",
       "        vertical-align: top;\n",
       "    }\n",
       "\n",
       "    .dataframe thead th {\n",
       "        text-align: right;\n",
       "    }\n",
       "</style>\n",
       "<table border=\"1\" class=\"dataframe\">\n",
       "  <thead>\n",
       "    <tr style=\"text-align: right;\">\n",
       "      <th></th>\n",
       "      <th>0</th>\n",
       "      <th>1</th>\n",
       "      <th>2</th>\n",
       "      <th>3</th>\n",
       "    </tr>\n",
       "  </thead>\n",
       "  <tbody>\n",
       "    <tr>\n",
       "      <th>0</th>\n",
       "      <td>0.078</td>\n",
       "      <td>0.521</td>\n",
       "      <td>0.602</td>\n",
       "      <td>0.2863</td>\n",
       "    </tr>\n",
       "    <tr>\n",
       "      <th>1</th>\n",
       "      <td>0.144</td>\n",
       "      <td>-0.600</td>\n",
       "      <td>-0.521</td>\n",
       "      <td>0.2245</td>\n",
       "    </tr>\n",
       "    <tr>\n",
       "      <th>2</th>\n",
       "      <td>0.095</td>\n",
       "      <td>-0.457</td>\n",
       "      <td>0.468</td>\n",
       "      <td>-0.1283</td>\n",
       "    </tr>\n",
       "    <tr>\n",
       "      <th>3</th>\n",
       "      <td>0.069</td>\n",
       "      <td>0.596</td>\n",
       "      <td>0.695</td>\n",
       "      <td>0.1054</td>\n",
       "    </tr>\n",
       "    <tr>\n",
       "      <th>4</th>\n",
       "      <td>0.190</td>\n",
       "      <td>0.527</td>\n",
       "      <td>0.691</td>\n",
       "      <td>0.2051</td>\n",
       "    </tr>\n",
       "    <tr>\n",
       "      <th>5</th>\n",
       "      <td>0.101</td>\n",
       "      <td>0.403</td>\n",
       "      <td>0.470</td>\n",
       "      <td>0.2487</td>\n",
       "    </tr>\n",
       "    <tr>\n",
       "      <th>6</th>\n",
       "      <td>0.146</td>\n",
       "      <td>0.413</td>\n",
       "      <td>0.435</td>\n",
       "      <td>0.2571</td>\n",
       "    </tr>\n",
       "  </tbody>\n",
       "</table>\n",
       "</div>"
      ],
      "text/plain": [
       "       0      1      2       3\n",
       "0  0.078  0.521  0.602  0.2863\n",
       "1  0.144 -0.600 -0.521  0.2245\n",
       "2  0.095 -0.457  0.468 -0.1283\n",
       "3  0.069  0.596  0.695  0.1054\n",
       "4  0.190  0.527  0.691  0.2051\n",
       "5  0.101  0.403  0.470  0.2487\n",
       "6  0.146  0.413  0.435  0.2571"
      ]
     },
     "execution_count": 17,
     "metadata": {},
     "output_type": "execute_result"
    }
   ],
   "source": [
    "data/10**np.ceil(np.log10(data.abs().max())) #小数定标规范化"
   ]
  },
  {
   "cell_type": "markdown",
   "metadata": {},
   "source": [
    "### 4.3.3 连续属性离散化\n",
    "一些数据挖掘算法，特别是某些分类算法（如ID3、Apriori算法等），要求数据是分类属性形式。这样就要求将连续属性转换为分类属性，即连续属性离散化。\n",
    "\n",
    "#### 1. 离散化的过程\n",
    "离散化就是在数据的取值范围内设定若干个离散的划分点，来设定离散化的区间，最后用不同的符号或者整数代表落在每个子区间中的数据值。    \n",
    "所以，离散化涉及两个子任务：\n",
    "1. 确定分类数\n",
    "2. 如何将连续属性值映射到这些分类值\n",
    "\n",
    "#### 2. 常用的离散化方法\n",
    "1. 等宽法：将值域分成具有相同宽度的区间\n",
    "\n",
    "区间的个数由数据本身的特点决定，或者由用户指定\n",
    "2. 等频法：将相同数量的记录放入每个区间\n",
    "\n",
    "这两种方法简单、便于操作，但是都需要人为划定区间个数。\n",
    "\n",
    "但是等宽法的缺点在于他对离群点比较敏感，倾向于不均匀的把属性值分布到各个区间。有些区间的数据很多，但有些区间的数据极少，这样会严重损坏建立的决策模型。\n",
    "\n",
    "等频法虽然避免了上述去电，但却有可能将相同的数据值分到不同的区间以满足每个区间中固定的数据个数。\n",
    "3. 基于聚类分析的方法：\n",
    "\n",
    "一维聚类的方法包括两个步骤：\n",
    "- 将连续属性的值用聚类算法（K-means）进行聚类\n",
    "- 将聚类得到的簇进行处理，合并到一个簇的连续属性值并做同一标记。\n",
    "\n",
    "该方法（不一定）也需要用户指定簇的个数，从而决定产生的区间数\n"
   ]
  },
  {
   "cell_type": "code",
   "execution_count": 18,
   "metadata": {},
   "outputs": [],
   "source": [
    "#数据规范化\n",
    "import pandas as pd\n",
    "import matplotlib.pyplot as plt\n",
    "from sklearn.cluster import KMeans #引入KMeans\n",
    "datafile = 'demo/data/discretization_data.xls' #参数初始化\n",
    "data = pd.read_excel(datafile) #读取数据\n",
    "data = data[u'肝气郁结证型系数'].copy()\n",
    "k = 4"
   ]
  },
  {
   "cell_type": "code",
   "execution_count": 19,
   "metadata": {},
   "outputs": [],
   "source": [
    "def cluster_plot(d, k): #自定义作图函数来显示聚类结果\n",
    "    plt.rcParams['font.sans-serif'] = ['SimHei'] #用来正常显示中文标签\n",
    "    plt.rcParams['axes.unicode_minus'] = False #用来正常显示负号\n",
    "  \n",
    "    plt.figure(figsize = (8, 3))\n",
    "    for j in range(0, k):\n",
    "        plt.plot(data[d==j], [j for i in d[d==j]], 'o')\n",
    "  \n",
    "    plt.ylim(-0.5, k-0.5)\n",
    "    return plt"
   ]
  },
  {
   "cell_type": "code",
   "execution_count": 20,
   "metadata": {},
   "outputs": [
    {
     "data": {
      "image/png": "[encoded data removed]",
      "text/plain": [
       "<Figure size 576x216 with 1 Axes>"
      ]
     },
     "metadata": {},
     "output_type": "display_data"
    },
    {
     "data": {
      "image/png": "[encoded data removed]",
      "text/plain": [
       "<Figure size 576x216 with 1 Axes>"
      ]
     },
     "metadata": {},
     "output_type": "display_data"
    },
    {
     "data": {
      "image/png": "[encoded data removed]",
      "text/plain": [
       "<Figure size 576x216 with 1 Axes>"
      ]
     },
     "metadata": {},
     "output_type": "display_data"
    }
   ],
   "source": [
    "d1 = pd.cut(data, k, labels = range(k)) #等宽离散化，各个类比依次命名为0,1,2,3\n",
    "\n",
    "#等频率离散化\n",
    "w = [1.0*i/k for i in range(k+1)]\n",
    "w = data.describe(percentiles = w)[4:4+k+1] #使用describe函数自动计算分位数\n",
    "w[0] = w[0]*(1-1e-10)\n",
    "d2 = pd.cut(data, w, labels = range(k))\n",
    "\n",
    "\n",
    "kmodel = KMeans(n_clusters = k, n_jobs = 4) #建立模型，n_jobs是并行数，一般等于CPU数较好\n",
    "kmodel.fit(data.values.reshape((len(data), 1))) #训练模型\n",
    "c = pd.DataFrame(kmodel.cluster_centers_).sort_values(0) #输出聚类中心，并且排序（默认是随机序的）\n",
    "\n",
    "w = c.rolling(2).mean().iloc[1:]#相邻两项求中点，作为边界点\n",
    "w = [0] + list(w[0]) + [data.max()] #把首末边界点加上\n",
    "d3 = pd.cut(data, w, labels = range(k))\n",
    "\n",
    "\n",
    "cluster_plot(d1, k).show()\n",
    "cluster_plot(d2, k).show()\n",
    "cluster_plot(d3, k).show()"
   ]
  },
  {
   "cell_type": "markdown",
   "metadata": {},
   "source": [
    "\n",
    "### 4.3.4 属性构造\n",
    "\n",
    "在数据挖掘过程中，为了提取更有用的信息，挖掘更深层次的模式，提高挖掘结果的精度，需要利用已有的属性集构造出新的属性，并加入到现有的集合中。\n",
    "\n",
    "即：根据已有属性构造出更符合需要的新属性\n",
    "\n",
    "举例：\n",
    "1. 将泰坦尼克数据集中的配偶兄妹属性和父母子女属性合并，得到家庭规模这一新属性\n",
    "2. 进行防窃电、漏电诊断建模时，由于电能损耗的存在，理论上供入电量应略大于供出电量。因此可以构造一个新指标--线损率。\n",
    "\n",
    "$ 线损率 = \\frac{供入电量-供出电量}{供入电量}$\n",
    "\n",
    "可以构造线损率代码如下"
   ]
  },
  {
   "cell_type": "code",
   "execution_count": 21,
   "metadata": {},
   "outputs": [],
   "source": [
    "import pandas as pd\n",
    "\n",
    "#参数初始化\n",
    "inputfile= 'demo/data/electricity_data.xls' #供入供出电量数据\n",
    "outputfile = 'demo/tmp/electricity_data.xls' #属性构造后数据文件\n",
    "\n",
    "data = pd.read_excel(inputfile) #读入数据\n",
    "data[u'线损率'] = (data[u'供入电量'] - data[u'供出电量'])/data[u'供入电量']\n",
    "\n",
    "data.to_excel(outputfile, index = False) #保存结果"
   ]
  },
  {
   "cell_type": "markdown",
   "metadata": {},
   "source": [
    "## 4.4 数据规约\n",
    "数据归约是指在尽可能保持数据原貌的前提下，最大限度地精简数据量（完成该任务的必要前提是理解挖掘任务和熟悉数据本身内容），从而提高数据分析和挖掘的效率。\n",
    "\n",
    "数据规约的意义在于：\n",
    "\n",
    "1. 降低无效、错误数据对建模的影响、\n",
    "2. 少量且具有代表性的数据将大幅缩减数据挖掘需要的时间\n",
    "3. 降低存储数据的成本。\n",
    "\n",
    "数据归约主要有两个途径：属性选择（规约）和数据采样（规约），分别针对原始数据集中的属性和记录。\n",
    "\n",
    "### 4.4.1 属性规约\n",
    "\n",
    "属性规约的目的是寻找出最小的属性子集，将数据集中不相关、弱相关或冗余的属性或维被检测或删除，并把原始数据变换或投影到较小的空间，同时确保新数据子集的概率分布尽可能地接近原来数据集的概率分布。\n",
    "\n",
    "属性规约的常用方法有：\n",
    "\n",
    "1. 数据立方体聚集(合并属性)   \n",
    "\n",
    "` 类似于前面的数据聚集，对数据立方体进行上卷和下钻，在不同抽象层次进行分析,即将一些旧属性合并为新属性`\n",
    "\n",
    "2. 属性子集选择\n",
    "\n",
    "2.1 逐步向前选择\n",
    "\n",
    "` 从一个空属性集开始，每次从原来属性集合中选择一个当前最优的属性添加到当前属性子集中，直到无法选择出最优属性或者满足一定阈值约束为止。`\n",
    "\n",
    "2.2 逐步向后删除\n",
    "\n",
    "` 从一个全属性集开始，每次从原来属性集合中选择一个当前最差的属性添加到当前属性子集中删除，直到无法选择出最差属性或者满足一定阈值约束为止。`\n",
    "\n",
    "2.3 决策树归纳\n",
    "\n",
    "` 利用决策树的归纳方法对初始数据进行分类归纳学习，获得一个初始决策树，所有没有出现在这个决策树上的属性均可以认为是无关属性，因此将这些属性从初始集合中删除，就可以获得一个较优的属性子集。`\n",
    "\n",
    "` 每个非叶子节点表示一个属性的选择，每个叶子节点表示一个类预测。最终的结果是将属性按照需求划分为好的或坏的。`\n",
    "\n",
    "3. 维度规约：使用数据编码和变换，规约数据。\n",
    "\n",
    "3.1 主成分分析\n",
    "\n",
    "` 用较少的变量去解释原始数据中的大部分变量，即将许多相关性很高的变量转化为彼此相互独立或者不相关的变量。`\n",
    "\n",
    "原理：求取协方差矩阵的特征值和特征向量。根据一定放入规则选取特征值较大的特征向量组成模式矢量。\n",
    "\n",
    "3.2 小波变换\n",
    "\n",
    "` 能够刻画某个问题的特征往往隐含在一个信号中的某个或者某些分量重，小波变换可以把非平稳信号分解为表达不同层次、不同频带信息的数据序列，即小波系数。选择适当的小波系数，即完成了信号的特征提取。`\n",
    "\n",
    "原理：通过小波变换将原始数据向量X={xi,x2...}(对应元祖各个属性)，变换成不同数值的数值小波系数向量Y。然后按照某种规则截取Y，仅保存一部分最强的小波系数。\n"
   ]
  },
  {
   "cell_type": "code",
   "execution_count": 22,
   "metadata": {},
   "outputs": [
    {
     "data": {
      "text/html": [
       "<div>\n",
       "<style scoped>\n",
       "    .dataframe tbody tr th:only-of-type {\n",
       "        vertical-align: middle;\n",
       "    }\n",
       "\n",
       "    .dataframe tbody tr th {\n",
       "        vertical-align: top;\n",
       "    }\n",
       "\n",
       "    .dataframe thead th {\n",
       "        text-align: right;\n",
       "    }\n",
       "</style>\n",
       "<table border=\"1\" class=\"dataframe\">\n",
       "  <thead>\n",
       "    <tr style=\"text-align: right;\">\n",
       "      <th></th>\n",
       "      <th>0</th>\n",
       "      <th>1</th>\n",
       "      <th>2</th>\n",
       "      <th>3</th>\n",
       "      <th>4</th>\n",
       "      <th>5</th>\n",
       "      <th>6</th>\n",
       "      <th>7</th>\n",
       "    </tr>\n",
       "  </thead>\n",
       "  <tbody>\n",
       "    <tr>\n",
       "      <th>0</th>\n",
       "      <td>40.4</td>\n",
       "      <td>24.7</td>\n",
       "      <td>7.2</td>\n",
       "      <td>6.1</td>\n",
       "      <td>8.3</td>\n",
       "      <td>8.7</td>\n",
       "      <td>2.442</td>\n",
       "      <td>20.0</td>\n",
       "    </tr>\n",
       "    <tr>\n",
       "      <th>1</th>\n",
       "      <td>25.0</td>\n",
       "      <td>12.7</td>\n",
       "      <td>11.2</td>\n",
       "      <td>11.0</td>\n",
       "      <td>12.9</td>\n",
       "      <td>20.2</td>\n",
       "      <td>3.542</td>\n",
       "      <td>9.1</td>\n",
       "    </tr>\n",
       "    <tr>\n",
       "      <th>2</th>\n",
       "      <td>13.2</td>\n",
       "      <td>3.3</td>\n",
       "      <td>3.9</td>\n",
       "      <td>4.3</td>\n",
       "      <td>4.4</td>\n",
       "      <td>5.5</td>\n",
       "      <td>0.578</td>\n",
       "      <td>3.6</td>\n",
       "    </tr>\n",
       "    <tr>\n",
       "      <th>3</th>\n",
       "      <td>22.3</td>\n",
       "      <td>6.7</td>\n",
       "      <td>5.6</td>\n",
       "      <td>3.7</td>\n",
       "      <td>6.0</td>\n",
       "      <td>7.4</td>\n",
       "      <td>0.176</td>\n",
       "      <td>7.3</td>\n",
       "    </tr>\n",
       "    <tr>\n",
       "      <th>4</th>\n",
       "      <td>34.3</td>\n",
       "      <td>11.8</td>\n",
       "      <td>7.1</td>\n",
       "      <td>7.1</td>\n",
       "      <td>8.0</td>\n",
       "      <td>8.9</td>\n",
       "      <td>1.726</td>\n",
       "      <td>27.5</td>\n",
       "    </tr>\n",
       "  </tbody>\n",
       "</table>\n",
       "</div>"
      ],
      "text/plain": [
       "      0     1     2     3     4     5      6     7\n",
       "0  40.4  24.7   7.2   6.1   8.3   8.7  2.442  20.0\n",
       "1  25.0  12.7  11.2  11.0  12.9  20.2  3.542   9.1\n",
       "2  13.2   3.3   3.9   4.3   4.4   5.5  0.578   3.6\n",
       "3  22.3   6.7   5.6   3.7   6.0   7.4  0.176   7.3\n",
       "4  34.3  11.8   7.1   7.1   8.0   8.9  1.726  27.5"
      ]
     },
     "execution_count": 22,
     "metadata": {},
     "output_type": "execute_result"
    }
   ],
   "source": [
    "#主成分分析 降维\n",
    "import pandas as pd\n",
    "\n",
    "#参数初始化\n",
    "inputfile = 'demo/data/principal_component.xls'\n",
    "outputfile = 'demo/tmp/dimention_reducted.xls' #降维后的数据\n",
    "\n",
    "data = pd.read_excel(inputfile, header = None) #读入数据\n",
    "data.head()"
   ]
  },
  {
   "cell_type": "code",
   "execution_count": 23,
   "metadata": {},
   "outputs": [
    {
     "data": {
      "text/plain": [
       "<matplotlib.axes._subplots.AxesSubplot at 0x2c78b28e710>"
      ]
     },
     "execution_count": 23,
     "metadata": {},
     "output_type": "execute_result"
    },
    {
     "data": {
      "image/png": "[encoded data removed]",
      "text/plain": [
       "<Figure size 432x288 with 2 Axes>"
      ]
     },
     "metadata": {},
     "output_type": "display_data"
    }
   ],
   "source": [
    "import seaborn as sns\n",
    "sns.heatmap(data.corr(),cmap='rainbow')"
   ]
  },
  {
   "cell_type": "code",
   "execution_count": 24,
   "metadata": {},
   "outputs": [
    {
     "data": {
      "text/plain": [
       "array([[ 0.56788461,  0.2280431 ,  0.23281436,  0.22427336,  0.3358618 ,\n",
       "         0.43679539,  0.03861081,  0.46466998],\n",
       "       [ 0.64801531,  0.24732373, -0.17085432, -0.2089819 , -0.36050922,\n",
       "        -0.55908747,  0.00186891,  0.05910423],\n",
       "       [-0.45139763,  0.23802089, -0.17685792, -0.11843804, -0.05173347,\n",
       "        -0.20091919, -0.00124421,  0.80699041],\n",
       "       [-0.19404741,  0.9021939 , -0.00730164, -0.01424541,  0.03106289,\n",
       "         0.12563004,  0.11152105, -0.3448924 ],\n",
       "       [-0.06133747, -0.03383817,  0.12652433,  0.64325682, -0.3896425 ,\n",
       "        -0.10681901,  0.63233277,  0.04720838],\n",
       "       [ 0.02579655, -0.06678747,  0.12816343, -0.57023937, -0.52642373,\n",
       "         0.52280144,  0.31167833,  0.0754221 ],\n",
       "       [-0.03800378,  0.09520111,  0.15593386,  0.34300352, -0.56640021,\n",
       "         0.18985251, -0.69902952,  0.04505823],\n",
       "       [-0.10147399,  0.03937889,  0.91023327, -0.18760016,  0.06193777,\n",
       "        -0.34598258, -0.02090066,  0.02137393]])"
      ]
     },
     "execution_count": 24,
     "metadata": {},
     "output_type": "execute_result"
    }
   ],
   "source": [
    "from sklearn.decomposition import PCA\n",
    "\n",
    "pca = PCA()\n",
    "pca.fit(data)\n",
    "pca.components_ #返回模型的各个特征向量"
   ]
  },
  {
   "cell_type": "markdown",
   "metadata": {},
   "source": [
    "可以看到通过PCA求得的8个特征向量，特征向量代表了你选择的空间方向，在这个空间方向上，你的样本在这个方向的样本方差就是其中的特征值，因此特征值越大代表了在这个方向上的数据主成份“含量越大”。"
   ]
  },
  {
   "cell_type": "code",
   "execution_count": 25,
   "metadata": {},
   "outputs": [
    {
     "data": {
      "text/plain": [
       "<matplotlib.axes._subplots.AxesSubplot at 0x2c78b339940>"
      ]
     },
     "execution_count": 25,
     "metadata": {},
     "output_type": "execute_result"
    },
    {
     "data": {
      "image/png": "[encoded data removed]",
      "text/plain": [
       "<Figure size 432x288 with 2 Axes>"
      ]
     },
     "metadata": {},
     "output_type": "display_data"
    }
   ],
   "source": [
    "sns.heatmap(pca.components_,cmap='rainbow')"
   ]
  },
  {
   "cell_type": "code",
   "execution_count": 26,
   "metadata": {},
   "outputs": [
    {
     "data": {
      "text/plain": [
       "array([7.74011263e-01, 1.56949443e-01, 4.27594216e-02, 2.40659228e-02,\n",
       "       1.50278048e-03, 4.10990447e-04, 2.07718405e-04, 9.24594471e-05])"
      ]
     },
     "execution_count": 26,
     "metadata": {},
     "output_type": "execute_result"
    }
   ],
   "source": [
    "pca.explained_variance_ratio_ #返回各个成分各自的方差百分比"
   ]
  },
  {
   "cell_type": "code",
   "execution_count": 27,
   "metadata": {},
   "outputs": [
    {
     "data": {
      "text/plain": [
       "[<matplotlib.lines.Line2D at 0x2c78b404eb8>]"
      ]
     },
     "execution_count": 27,
     "metadata": {},
     "output_type": "execute_result"
    },
    {
     "data": {
      "image/png": "[encoded data removed]",
      "text/plain": [
       "<Figure size 432x288 with 1 Axes>"
      ]
     },
     "metadata": {},
     "output_type": "display_data"
    }
   ],
   "source": [
    "import matplotlib.pyplot as plt\n",
    "plt.plot(pca.explained_variance_ratio_)"
   ]
  },
  {
   "cell_type": "code",
   "execution_count": 28,
   "metadata": {},
   "outputs": [
    {
     "data": {
      "text/plain": [
       "0.9977860512171647"
      ]
     },
     "execution_count": 28,
     "metadata": {},
     "output_type": "execute_result"
    }
   ],
   "source": [
    "sum(pca.explained_variance_ratio_[:4]) #返回各个成分各自的方差百分比"
   ]
  },
  {
   "cell_type": "markdown",
   "metadata": {},
   "source": [
    "可以看出取前4个主成分时，累计贡献率已经达到了99%，因此可以重新建立PCA模型"
   ]
  },
  {
   "cell_type": "code",
   "execution_count": 29,
   "metadata": {},
   "outputs": [
    {
     "data": {
      "text/plain": [
       "array([[  8.19133694,  16.90402785,   3.90991029,   7.48106686],\n",
       "       [  0.28527403,  -6.48074989,  -4.62870368,   5.01369607],\n",
       "       [-23.70739074,  -2.85245701,  -0.4965231 ,  -1.57285727],\n",
       "       [-14.43202637,   2.29917325,  -1.50272151,  -1.30763061],\n",
       "       [  5.4304568 ,  10.00704077,   9.52086923,  -5.63779544],\n",
       "       [ 24.15955898,  -9.36428589,   0.72657857,  -1.98622218],\n",
       "       [ -3.66134607,  -7.60198615,  -2.36439873,   0.04213184],\n",
       "       [ 13.96761214,  13.89123979,  -6.44917778,  -2.92916826],\n",
       "       [ 40.88093588, -13.25685287,   4.16539368,   1.21239981],\n",
       "       [ -1.74887665,  -4.23112299,  -0.58980995,  -1.57477365],\n",
       "       [-21.94321959,  -2.36645883,   1.33203832,   4.39763606],\n",
       "       [-36.70868069,  -6.00536554,   3.97183515,  -1.54808393],\n",
       "       [  3.28750663,   4.86380886,   1.00424688,   0.85119303],\n",
       "       [  5.99885871,   4.19398863,  -8.59953736,  -2.44159234]])"
      ]
     },
     "execution_count": 29,
     "metadata": {},
     "output_type": "execute_result"
    }
   ],
   "source": [
    "pca = PCA(4)\n",
    "pca.fit(data)\n",
    "low_d = pca.transform(data) # 降低维度并应用于data\n",
    "low_d"
   ]
  },
  {
   "cell_type": "markdown",
   "metadata": {},
   "source": [
    "可以看到原始数据从8维降到了4维，且占据了99%以上的信息。"
   ]
  },
  {
   "cell_type": "code",
   "execution_count": 30,
   "metadata": {},
   "outputs": [
    {
     "data": {
      "text/plain": [
       "<matplotlib.axes._subplots.AxesSubplot at 0x2c78b439a20>"
      ]
     },
     "execution_count": 30,
     "metadata": {},
     "output_type": "execute_result"
    },
    {
     "data": {
      "image/png": "[encoded data removed]",
      "text/plain": [
       "<Figure size 432x288 with 2 Axes>"
      ]
     },
     "metadata": {},
     "output_type": "display_data"
    }
   ],
   "source": [
    "sns.heatmap(low_d,cmap='rainbow')"
   ]
  },
  {
   "cell_type": "code",
   "execution_count": 31,
   "metadata": {},
   "outputs": [],
   "source": [
    "#保存降维后的数据\n",
    "pd.DataFrame(low_d).to_excel(outputfile)\n",
    "#查看数据，对比数据和原数据"
   ]
  },
  {
   "cell_type": "code",
   "execution_count": 32,
   "metadata": {
    "scrolled": false
   },
   "outputs": [
    {
     "data": {
      "text/plain": [
       "[array([2415.1478541 , 2395.74470824, 2402.22022728, 2408.90987352,\n",
       "        2402.22022728, 2395.74470824, 2415.1478541 , 2369.53622493,\n",
       "        1958.0913368 , 1983.87619596, 1901.68851538, 1651.86483216,\n",
       "        1482.45129628, 1356.98779058, 1257.4459793 , 1265.75505172,\n",
       "        1363.66712581, 1427.53767222, 1568.87951307, 1893.80694993,\n",
       "        2295.89161125, 2555.9239482 , 2778.31817145, 2871.0940301 ,\n",
       "        2954.38189098, 2981.0281365 , 2986.06286012, 3091.56214184,\n",
       "        3085.0678644 , 2840.05639099, 2782.74679521, 2776.99922688,\n",
       "        2833.0658032 , 2907.76710805, 2496.58749928, 2443.95791914,\n",
       "        2338.50723857, 2394.15834442, 2186.86013504, 2142.10730351,\n",
       "        2066.37469747, 2097.47366057, 2190.20987484, 2024.82470966,\n",
       "        1999.88792082, 1761.22260043, 2012.8983115 , 1733.14320566,\n",
       "        1955.69105593, 2296.53399998, 2332.11621828, 2436.91433782,\n",
       "        2248.43497823, 1928.01215666, 1900.73383661, 1804.08152916,\n",
       "        1596.93576991, 1375.26325034, 1301.52662997, 1239.15426738,\n",
       "        1186.59596164, 1319.79503991, 1366.29061126, 1541.13036373,\n",
       "        1840.28203581, 2332.24861782, 2493.05709766, 2756.64959852,\n",
       "        2845.85405655, 2889.08956115, 2900.45305889, 2894.26919258,\n",
       "        2840.00331868, 2972.87057918, 2734.41261131, 2706.91816977,\n",
       "        2748.45656461, 2728.48445985, 2699.97766246, 2573.64021822,\n",
       "        2465.86126471, 2389.76210231, 2228.72532938, 2147.04749027,\n",
       "        2101.5149566 , 2060.59130892, 2073.90160123, 2125.05661853,\n",
       "        2006.49905922, 1892.43376708, 1792.18694605, 1688.28436526,\n",
       "        1759.13437455, 1662.84067347, 2211.37879446, 2298.66750686,\n",
       "        2229.3528378 , 2250.43556987, 1739.81121296, 1711.93766043,\n",
       "        1658.80982905, 1343.09569093, 1170.87330461,  930.3307274 ,\n",
       "         881.12593524,  806.05407736,  796.07602554,  770.19910471,\n",
       "         746.44388457,  872.75531896, 1072.73155416, 1203.88261161,\n",
       "        1402.5617364 , 1520.92224501, 1899.51673709, 1836.55406856,\n",
       "        1874.02882644, 1860.42136727, 1843.63833987, 1803.4998732 ,\n",
       "        1888.2388324 , 1808.61624732, 1669.61176324, 1589.11409167,\n",
       "        1454.81743823, 1309.27429412, 1217.19395153, 1155.90443861,\n",
       "        1100.16891616, 1135.66615726, 1090.30057756, 1175.24958262,\n",
       "        1265.17133627, 1224.91217397, 1174.91998265, 1124.20079064,\n",
       "        1081.12884006, 1128.58871491, 1168.71694008, 1687.91722313,\n",
       "        1793.37627801, 1885.84661105, 1821.46713782, 1836.21073473,\n",
       "        1850.45948483, 1795.06691925, 1850.45948483, 1836.21073473,\n",
       "        1821.46713782]),\n",
       " array([-5.11468240e+00, -7.78481941e+00, -5.59636066e+00,  5.68434189e-14,\n",
       "         5.59636066e+00,  7.78481941e+00,  5.11468240e+00, -2.81258232e+00,\n",
       "         3.26062134e+01,  2.68735619e+01,  1.20971007e+01, -5.07671404e-01,\n",
       "         7.62522769e+00, -6.84072854e-01, -1.16884926e+01, -1.18088402e+01,\n",
       "         1.33926665e+01, -2.01235299e+01,  3.48260315e+00, -3.54659040e+00,\n",
       "         2.01837609e+01,  1.15681152e+01, -1.18638949e+01,  6.84726925e+00,\n",
       "        -4.11590600e+00, -1.02132760e+01, -1.27666042e+01, -9.20952401e+00,\n",
       "         2.77461418e+01, -3.98479118e+01,  5.15429218e+01,  6.60716803e+01,\n",
       "         3.46710408e+01,  5.15409412e+01, -1.97726577e+00, -1.73356501e+01,\n",
       "        -2.98726832e+01,  6.88709748e+01,  4.13412171e+01, -3.34948636e+00,\n",
       "        -3.74146943e+00,  1.88164077e+00, -1.79587054e+01, -1.10115156e+01,\n",
       "         5.35815207e+00, -9.54447993e+00, -3.58666643e+01, -2.27141233e+01,\n",
       "        -1.10221405e+02, -8.13158319e+01, -7.74112994e+01, -7.01880092e+01,\n",
       "        -3.44548030e+01, -8.16498691e+00,  2.65900570e+00, -6.23319888e+00,\n",
       "         4.87340502e+00,  4.68468083e+00,  9.18690091e+00,  1.85430639e+01,\n",
       "         2.93779255e+00,  2.58783705e+01,  5.40120757e+00,  5.17675770e+01,\n",
       "         1.61772930e+01,  1.32514251e+01,  6.44356661e+00,  9.97394561e+00,\n",
       "        -6.32494684e+00, -1.37030499e+01,  7.82329250e+00,  2.65234860e-02,\n",
       "        -1.50525686e+01, -5.40883815e+00, -3.98406609e+01,  5.40847540e+01,\n",
       "         4.94428826e+01,  1.69192021e+01,  2.05407784e+01,  6.23907404e+00,\n",
       "         2.08672203e+00,  1.88346482e+01,  1.65051009e+01, -2.48767801e+01,\n",
       "         1.21863576e+01,  3.11490193e+01,  6.93708899e+00, -1.01772953e+01,\n",
       "        -9.74729168e+00,  1.89445313e+01,  7.99277116e+00,  7.44593412e+00,\n",
       "        -4.47889132e+00, -9.75438570e+01, -9.69116185e+01, -5.69268401e+01,\n",
       "        -3.98340942e+01, -4.56499591e+01, -1.41379229e+01, -4.08223971e+01,\n",
       "        -3.17335250e+01, -1.63609602e+00, -4.09533079e+01, -3.34194655e+01,\n",
       "        -2.24169494e+01, -2.33365528e+01,  1.66316122e+01, -8.71183199e+00,\n",
       "        -8.09314057e+00, -8.34584196e+00,  3.28930260e+01,  6.08832971e+01,\n",
       "         1.23425633e+01, -5.44692340e+01, -6.72967848e+01, -2.55981626e+01,\n",
       "        -1.59700109e+01, -5.97791744e+00, -6.95498159e+00, -1.49507701e+01,\n",
       "         6.94813379e+01,  2.99780448e+01, -2.88329977e+00,  1.96172085e+01,\n",
       "         1.07086206e+01,  1.35358732e+00, -9.96476145e+00, -9.87509065e+00,\n",
       "         3.28294967e-01,  4.38088766e+00,  2.28724457e+00,  7.26065444e+00,\n",
       "         1.73104487e-01, -9.90509246e-01,  1.12392282e+01,  6.73495793e+00,\n",
       "        -6.68352711e+00, -2.67788156e+00, -6.92047375e+01, -5.60700568e+01,\n",
       "        -6.98683373e+01, -6.56027327e+01, -7.28593276e+00, -3.41060513e-13,\n",
       "         7.28593276e+00,  0.00000000e+00, -7.28593276e+00,  3.41060513e-13,\n",
       "         7.28593276e+00]),\n",
       " array([ 1.56430851e+01,  2.02023201e+01,  1.82896563e+01,  0.00000000e+00,\n",
       "        -1.82896563e+01, -2.02023201e+01, -1.56430851e+01, -1.46005675e+01,\n",
       "        -7.44798321e-01, -2.11282888e+00,  2.19996447e+01, -1.06671227e+01,\n",
       "         2.69256087e+01, -2.33692970e+00,  1.35541469e+01, -2.43215660e+00,\n",
       "         4.84685147e-01, -1.88743192e+00,  1.77138502e+00, -1.68501577e+00,\n",
       "        -5.49538628e+00,  1.58632490e+00, -8.81283612e+00, -5.26304374e+00,\n",
       "         1.27544004e+00,  5.31140221e+00, -6.49338449e+00, -9.24841905e+00,\n",
       "        -1.09486420e+01, -3.98536720e+00, -1.99031297e-01, -6.30393271e+00,\n",
       "        -6.00269930e-01, -3.54188885e+00,  1.20236106e+01,  2.25324459e+01,\n",
       "        -5.70138251e-01,  1.66141956e+00,  7.85343691e+00,  1.27608648e+01,\n",
       "         4.73461534e+00, -1.92263117e+01, -1.86927439e+01, -1.58702888e+00,\n",
       "         1.24648941e+00, -1.02858165e-01,  8.35252054e+00, -1.19610249e+01,\n",
       "         1.49440803e+01,  4.05222500e+00, -7.99088548e+00, -2.35305917e+01,\n",
       "         1.82636402e+01,  3.31765394e+01, -1.66962711e+01,  1.05308999e+01,\n",
       "        -6.02086312e+00, -1.19904713e+01, -1.64146942e+01,  2.17213412e+00,\n",
       "         5.23045420e+00, -5.23692611e+01, -8.08460365e+00,  2.75501419e+00,\n",
       "        -3.68947228e+00,  1.41090506e+01,  1.10139186e+01, -1.75922276e+01,\n",
       "        -1.02304321e+02, -1.26369126e+00, -8.60651529e+00,  1.93099696e+00,\n",
       "        -8.39906884e+00,  7.62630602e-02, -9.56241137e+00, -2.40033413e+01,\n",
       "        -4.76301617e+00,  6.00018130e+00,  4.12825532e+00,  1.51983201e+01,\n",
       "        -1.84729607e+01, -3.43520685e+01, -8.88413436e+00,  6.72061783e+00,\n",
       "         8.33127003e+00, -1.32731100e+01,  2.69320897e+00,  7.67395243e+00,\n",
       "         7.74752717e+00, -8.08858916e+00, -4.69372887e+01, -9.04595280e+00,\n",
       "        -2.13330003e+01, -5.31824234e-01, -7.27765361e+00, -2.07763145e+01,\n",
       "        -1.74314130e+00, -6.21035711e+00, -2.33499364e+00, -5.18884494e+00,\n",
       "         2.79204430e+01, -6.79902281e+00,  3.38531749e+01,  6.66150791e+00,\n",
       "         1.12921136e+01, -1.16366159e+00,  1.66622737e+01,  1.43670321e+01,\n",
       "         2.21695030e+01,  4.94583385e+00, -5.03717999e-01,  2.36897738e+00,\n",
       "        -8.87948374e+00, -6.80861146e+00, -1.99846922e+00,  2.43601992e+00,\n",
       "        -8.61128674e+00,  3.88049157e+00, -6.51256224e-01, -2.04359881e+00,\n",
       "        -9.43907686e+00, -3.75159377e+00, -7.17578534e+00, -1.13455930e+01,\n",
       "        -8.08729082e-01,  2.95172821e+00,  9.96551805e+00,  7.98473834e+00,\n",
       "         1.90030827e+00, -3.14800316e-01, -4.99935966e-01, -1.16137873e+01,\n",
       "        -1.48673979e+01, -5.31393343e+00, -7.36442707e+00, -4.57743607e-01,\n",
       "        -2.80976705e+00, -5.34477137e-01,  1.98035638e+00,  6.72434677e+00,\n",
       "        -2.64941743e+00, -1.12137045e+01,  2.55926228e+01,  2.40870514e+01,\n",
       "        -4.51395526e+00,  2.11925368e+01,  1.15150864e+01,  1.93803358e+01,\n",
       "        -2.92984783e+00,  1.96382477e+00,  4.06857897e+00, -1.89976603e-01,\n",
       "        -2.86540694e+00,  1.77984597e+00,  5.64301585e-01,  2.14176140e+00,\n",
       "         1.89436312e+00, -1.09637286e+00, -3.13557104e+00,  2.28360823e+01,\n",
       "         1.04343602e+01,  1.05775474e+01,  1.40608257e+01, -5.74612870e-01,\n",
       "        -1.46426605e+01,  8.02561248e-01,  1.37218413e+01,  1.26836538e+01,\n",
       "         1.10445520e+01,  1.92850355e+01, -1.87980099e+01, -1.46876834e+01,\n",
       "        -1.44659888e+01, -1.42703719e+01, -1.15075697e+01,  1.89281008e+01,\n",
       "         1.97046348e+01,  8.94675089e+00,  7.11799213e+00,  2.10008158e+01,\n",
       "        -2.28268592e+01,  1.19805425e+01, -3.78040721e+01, -2.16322071e+01,\n",
       "        -5.89616096e+01, -1.60714414e+02,  2.85823770e+00, -7.68816671e+00,\n",
       "         3.53923292e+00,  4.04468459e+00,  7.55008608e+00,  3.08677509e+00,\n",
       "         3.95033266e+01, -8.27546747e+00,  5.95453690e+01,  1.51721232e+01,\n",
       "        -1.30574243e+01, -2.33700819e+01, -1.73610062e+01, -6.36833292e+00,\n",
       "         1.45062674e+00,  8.10616010e-01,  1.49131436e+01,  1.26814873e+00,\n",
       "         5.76364578e+00,  1.81268330e+01,  7.92921537e+00, -7.81342365e+00,\n",
       "        -7.13146287e+00, -6.09856977e+00, -7.30240112e+00, -1.47765443e+01,\n",
       "         8.71824245e-01,  1.68209667e+01,  3.03859224e+01,  1.64833358e+01,\n",
       "         2.99076646e+00,  1.87218247e+01, -3.42754977e+00, -1.54368111e+01,\n",
       "        -1.05355932e+01, -4.49337214e+01, -7.65680616e+00, -1.43888660e-01,\n",
       "        -3.28151498e+00, -5.71157942e+00, -1.73517663e+00,  1.27548413e+00,\n",
       "        -1.26138485e+01,  2.57666622e+00,  6.16088027e+00,  1.64270728e+00,\n",
       "         3.62703247e+00,  2.20582738e+01, -1.50921896e+01,  1.86543374e+01,\n",
       "         2.38697411e-01,  5.95607689e+00,  6.04227465e+00,  4.73483079e+00,\n",
       "         1.48073249e+01,  3.24423330e+00,  1.49770103e+01,  6.14748469e+00,\n",
       "        -6.66525015e-01, -4.23356919e+00, -4.05873647e+00,  1.03012586e+01,\n",
       "         2.91861509e+00,  4.45563504e+00,  5.48385371e-02,  1.24678287e+01,\n",
       "         1.18632934e+01,  3.43896274e+00,  2.21816457e+00, -1.22984027e+00,\n",
       "        -4.47929056e-01,  1.29861213e+01,  2.86894325e+00, -7.65370413e+00,\n",
       "        -1.47026993e+01, -4.90894760e+00,  1.08661638e+00,  5.02244736e+00,\n",
       "         7.55017447e+00,  7.55033807e+00,  1.28084918e+00, -2.60691721e+00,\n",
       "         8.42076407e+00,  1.72134396e+01, -2.84507041e+01,  3.05649534e-02,\n",
       "        -1.41652071e+01, -2.88368429e-01, -1.86646454e+01, -3.18257447e+01,\n",
       "         1.78906518e+00,  1.39005230e+00, -1.39005230e+00,  3.05409731e-01,\n",
       "        -3.05409731e-01,  1.39005230e+00, -1.39005230e+00, -1.78906518e+00]),\n",
       " array([-4.70073221e+00,  1.11205338e+01,  5.19985452e-01,  0.00000000e+00,\n",
       "        -5.19985452e-01, -1.11205338e+01,  4.70073221e+00, -5.23245641e+00,\n",
       "        -4.42141883e+00,  3.79796711e+00,  4.17411373e+00, -2.05808158e+00,\n",
       "        -7.61335479e+00, -4.86230842e+00,  3.04517477e+00,  1.10144254e+00,\n",
       "        -1.44553497e+00, -2.71415864e-01, -5.99284262e+00, -6.65301803e+00,\n",
       "         5.36104500e+00,  1.00734106e+01, -6.76157435e+00, -3.95208334e+00,\n",
       "         6.42953125e+00,  4.67862378e+00,  2.04181743e+00, -6.58273774e+00,\n",
       "        -8.46653474e-01,  8.93863232e+00,  1.02352022e+00, -4.30111250e+00,\n",
       "         1.00107879e+00,  4.06643906e+00, -2.79666256e+00, -3.82829501e+00,\n",
       "        -1.65636478e+00, -1.11804832e+01, -5.54500786e+00,  4.03885546e+00,\n",
       "        -1.13360130e+00, -2.93562546e+00, -1.69768476e+00, -3.20736012e+00,\n",
       "        -4.71054704e+00,  1.50847412e+00,  2.34154904e-01, -3.26503909e-01,\n",
       "         8.37837267e-01,  9.33416990e-01,  6.62970353e-01,  4.25122255e+00,\n",
       "         3.07835176e+00, -2.40957982e+00,  3.19929290e+00, -5.13329347e-01,\n",
       "        -4.28224025e+00,  3.05561842e+00,  1.99107109e+00, -1.42410612e+00,\n",
       "        -4.21938677e-01, -4.49637509e+00, -6.17084913e+00,  3.25498769e+00,\n",
       "         4.89996574e-01,  1.02920842e+00, -1.96960476e+00,  4.26062037e-01,\n",
       "        -4.76319814e-01, -7.78979462e+00, -3.51977180e+00,  7.06999930e+00,\n",
       "         1.09585523e+01,  2.02860358e+00, -3.50422061e+00,  5.41278752e+00,\n",
       "        -5.03260840e+00, -3.96224499e+00,  3.35319061e+00, -5.75233093e-01,\n",
       "         6.83900384e-01, -6.97898602e+00, -4.37139563e+00,  9.06517903e-01,\n",
       "         1.55515782e+00, -4.14842374e+00,  6.61670870e+00, -1.14174529e+00,\n",
       "        -1.59069395e+00, -1.35306389e-01,  7.63013820e+00,  6.59509358e+00,\n",
       "         4.15290374e+00,  4.45265156e+00,  5.16675110e-01,  1.35003558e+00,\n",
       "        -1.20395773e+01, -2.17929815e+00,  4.11899254e+00, -1.16053299e+00,\n",
       "         1.06014409e+01, -3.45668031e-01,  2.82440679e+00, -5.76605566e+00,\n",
       "         3.93851119e-01, -7.40754692e-01, -1.37148005e+00, -8.96579595e+00,\n",
       "        -3.15581459e+01, -1.38691354e+01, -4.94266357e+00, -1.28229199e+00,\n",
       "        -7.24120086e+00, -7.79748292e+00, -2.23452544e+01, -2.08018744e+01,\n",
       "         1.19178070e+01,  5.71667730e-01,  5.71039951e+00,  5.22443790e+00,\n",
       "        -7.36384080e-01, -5.26996355e+00, -6.77510495e+00, -8.83424442e+00,\n",
       "        -2.06294754e+01, -1.96209806e+00, -3.08532971e+00, -3.22582124e+00,\n",
       "         5.30161308e+00,  1.40233523e+01,  1.61017269e+01,  3.46067737e-01,\n",
       "         8.07792911e-01,  1.78776741e-01, -8.42912047e-02,  3.11675857e+00,\n",
       "        -5.00064301e+00,  9.69632008e-01,  6.45996294e-01, -1.12006167e+00,\n",
       "         4.27289802e+00, -3.11563122e+00, -5.43841692e+00, -1.72142452e+01,\n",
       "        -3.15037082e+00,  4.86214020e+00,  1.14528907e+00, -1.09315899e+00,\n",
       "         5.33710672e-01,  2.75015442e+00,  1.37970853e+00,  3.41837244e+00,\n",
       "        -3.89176873e+00, -1.31190777e+00, -2.33050362e+01, -5.09591686e+01,\n",
       "         5.59036232e+00,  2.17825084e+01, -1.50051004e+01,  9.31800584e-01,\n",
       "        -3.75465139e-01,  8.49082974e+00,  4.76974052e+01,  9.43756141e+00,\n",
       "         1.41029875e+01, -5.80463459e+00, -1.74209442e+00, -5.19660962e+00,\n",
       "         4.38702270e-01,  2.39757085e+00,  1.42460666e+01, -1.75897134e+00,\n",
       "         2.23997485e+00,  1.01642969e+00, -5.96201670e+00,  1.53038566e+01,\n",
       "         1.80451440e+00,  2.09091971e+00, -5.30591716e+00, -4.54818248e+00,\n",
       "        -9.46327719e-01,  5.99677182e-01,  9.37279402e+00, -5.21071098e+00,\n",
       "        -2.49486707e+00, -2.00004166e-01,  4.89937837e+00,  5.85531735e+00,\n",
       "        -9.17662568e-03, -6.67782452e+00,  1.43171319e+01,  2.39938052e+00,\n",
       "        -1.85759398e+00, -6.82671593e+00,  1.20388718e+00,  2.46992973e+00,\n",
       "         3.68893340e+00,  9.49234132e-01, -4.47777944e+00, -2.55375940e+00,\n",
       "        -4.28240142e-01,  7.44902964e+00,  1.66987312e+00, -2.60947163e+00,\n",
       "        -1.57385369e+00,  1.13334154e+00,  2.41835277e+00,  5.56940362e+00,\n",
       "         5.59285572e+00, -4.30507225e+00, -7.75873676e+00,  5.21831670e+00,\n",
       "         4.49569323e+00, -1.86113148e+00, -4.41014224e+00,  2.98232030e+00,\n",
       "         1.11177859e+00, -1.43913575e+00, -8.47638642e-01, -9.18568665e-01,\n",
       "         2.42818171e+00,  4.19479985e+00,  4.72895860e+00,  3.77771439e-01,\n",
       "         2.20137740e+00,  4.92603588e+00,  4.35816120e+00,  4.66678827e+00,\n",
       "         5.77915113e+00,  2.83776735e+00, -1.41118046e+00, -3.43072496e+00,\n",
       "        -3.17704288e+00, -4.23780637e+00, -4.67341613e+00,  3.11020048e+00,\n",
       "        -7.06258618e+00, -1.08663258e+01,  1.79985348e+00,  1.07115185e+01,\n",
       "        -1.76933943e+00, -1.62448300e+00,  2.43987761e+00,  1.26971505e+01,\n",
       "         5.20902276e+00,  2.25706671e-01,  6.39929628e+00,  9.83737667e+00,\n",
       "         4.54317325e+00, -6.04938630e+00, -3.57159738e+00,  1.67692395e+00,\n",
       "         6.10553043e-01, -3.04523813e+00, -5.63754917e-01,  2.91370425e+00,\n",
       "        -3.12207912e+00,  2.59430464e+00, -2.56497926e+00, -6.36155650e+00,\n",
       "        -2.94650232e+00,  7.22708870e+00,  5.83929860e+00, -5.12156190e+00,\n",
       "        -3.39925336e+00,  7.58008462e+00,  3.37216973e+00,  2.06493309e+00,\n",
       "        -2.03338114e+00,  3.92300536e+00,  5.23915045e+00, -2.52409235e-01,\n",
       "        -3.35783480e+00,  4.39957152e+00, -3.02716080e-01, -3.04725915e+00,\n",
       "        -3.25019926e+00, -2.06064112e+00, -3.33349456e+00, -3.70047491e+00,\n",
       "         1.78630845e+01,  1.38314002e+00,  4.06869384e+00, -2.48824436e+00,\n",
       "        -2.33949015e+00,  3.11987816e+00,  2.07528024e+00, -4.46942363e+00,\n",
       "        -1.36101292e+00, -2.14388479e-01,  4.12740765e+00,  3.90687880e+00,\n",
       "        -3.58366748e+00, -5.89148293e+00, -1.81683239e+00,  2.57132625e+00,\n",
       "         1.04262896e+00, -7.64630889e+00, -8.75452229e+00, -6.94601422e+00,\n",
       "        -4.20345657e+00, -4.04877447e+00, -5.49680353e+00, -6.15311186e+00,\n",
       "         1.94681969e+00,  3.54373288e+00, -4.05675508e+00, -1.10083148e+01,\n",
       "        -1.56826748e+01, -7.04634895e+00, -3.78067804e+00, -1.38942811e+01,\n",
       "         1.33442887e+01,  3.36143009e+01,  6.33375231e+00, -2.00789907e+01,\n",
       "        -1.91421133e+01, -3.05358510e+01, -1.92945717e+01,  5.26340279e+00,\n",
       "         7.88249919e+00, -7.25005503e+00, -6.81244218e+00, -8.05106143e+00,\n",
       "        -2.38241480e+01, -1.29913461e+01,  1.04308944e+00,  5.42918754e+00,\n",
       "         2.17144156e+01,  8.62291630e+00,  3.06465642e-01,  8.18328102e+00,\n",
       "        -1.08493147e+01, -8.66946365e+00,  1.36491605e+01, -2.66068592e-01,\n",
       "        -2.26879409e+01, -1.38889093e+01, -7.65186203e+00, -3.38022676e+00,\n",
       "        -1.03932109e+01, -2.11652183e+01, -2.87572069e+01, -2.30279785e+01,\n",
       "         1.12187787e+01,  1.11200562e+01,  1.06521402e+01,  1.24580886e+01,\n",
       "         8.29121491e+00, -8.51127141e+00, -2.76211818e+01, -1.75696057e+01,\n",
       "        -3.01137580e+01, -1.22671573e+01,  7.00906235e+00,  2.06941549e+01,\n",
       "        -5.56544005e+00, -1.15227295e+01, -1.56938138e+01, -1.17184160e+01,\n",
       "        -1.80650762e+01, -1.16404655e+01, -1.55872450e+01, -3.72973983e+01,\n",
       "        -3.11347055e+01,  1.59602569e+01,  6.28258767e+00,  1.39373247e+01,\n",
       "         2.43347254e+00,  1.73243865e+00, -7.14530552e+00, -1.11300633e+01,\n",
       "        -1.05285211e+01,  4.05696081e+00,  6.53697070e+00, -2.15889437e-01,\n",
       "        -1.90660923e+01,  1.57278385e+01,  2.30436384e+01,  1.77343384e+01,\n",
       "         2.19310532e+01,  2.24563549e+01,  1.89808417e+01,  4.44402214e+00,\n",
       "         4.07543720e+01,  3.94954683e+01,  2.39741121e+01,  1.23368506e+01,\n",
       "         2.05383329e+01,  5.86332719e+00, -2.08391538e+00, -6.16742991e-01,\n",
       "         1.25391224e+01, -3.60586547e+00, -1.09842696e+01,  1.24058721e+00,\n",
       "         3.50767203e+00,  9.74344695e+00, -4.33881804e+00, -6.35029154e+00,\n",
       "        -1.40474993e+01,  1.46766726e+01,  3.14076770e+01,  1.84461602e+01,\n",
       "         2.51393204e+01,  1.92888770e+01, -5.62463921e+00, -1.18461499e+01,\n",
       "        -2.48132442e+01, -1.15970933e+01,  1.24895885e+01,  1.24325391e+01,\n",
       "        -4.17494132e+00,  1.32197142e+00, -2.89821503e+00,  8.21098447e-01,\n",
       "         8.81427942e+00,  2.43017751e+01,  4.88539173e+00, -2.17047631e+01,\n",
       "        -1.85319389e+01, -9.66734683e+00,  7.86842413e+00,  3.57883989e+01,\n",
       "         2.30939107e+01,  1.82097951e+01, -1.34220999e+01, -1.44406811e+01,\n",
       "        -7.42231179e-01,  2.22230985e+01,  1.94404923e+01,  1.24970871e+01,\n",
       "        -4.34473485e+00,  3.23527472e-01,  2.48960079e+01, -1.62076425e+01,\n",
       "        -5.18506172e+00,  2.01071438e+00,  1.84210177e+00,  6.28378919e-01,\n",
       "        -5.00767460e-01,  4.31140506e+00, -4.26519599e-01, -4.15587615e+00,\n",
       "        -3.06684927e+00, -3.61511991e-01,  7.70517219e+00,  2.57152585e+00,\n",
       "        -2.47854857e+00, -5.64314684e+00, -2.06907301e+00, -6.54910549e+00,\n",
       "         1.42920456e+00, -5.15532854e+00, -5.94053394e+00, -1.83828267e+00,\n",
       "        -4.45879693e+00, -7.17982773e+00, -5.47627422e+00, -1.26213911e+00,\n",
       "         7.12464778e+00, -2.91141292e+00,  4.30261072e+00, -1.23946020e+00,\n",
       "         2.04014429e-01, -4.34018934e+00, -8.37249834e+00, -6.53003304e+00,\n",
       "        -4.50789794e+00, -7.65744870e+00, -1.38929442e+00,  6.07147372e+00,\n",
       "         4.46839729e+00, -1.05611519e+00, -1.65770005e+00, -8.16731786e+00,\n",
       "        -2.69899717e+00, -2.02829886e+00, -3.57613575e+00, -5.99515607e-01,\n",
       "         3.43602609e+00,  1.75329971e+00,  3.73118302e+00,  3.66698203e+00,\n",
       "        -1.77883135e+00, -4.58257781e+00, -7.26949156e-01,  2.96745788e+00,\n",
       "         6.18722507e+00,  2.73344815e+00,  3.90247598e-03, -4.23314596e+00,\n",
       "        -2.00919714e+00, -1.93899222e-01, -3.35409401e+00, -5.37616797e+00,\n",
       "        -6.06279009e+00, -8.85079443e-02,  2.64855001e-01,  1.77090581e+00,\n",
       "         2.93802355e+00,  6.01440516e+00,  5.56605909e+00,  5.10960324e+00,\n",
       "         8.98217249e-01, -3.32181566e+00,  9.55850351e-03, -6.88678477e+00,\n",
       "        -2.25706061e+00,  8.23017021e-01,  1.92902146e-01,  6.03791529e+00,\n",
       "         1.16719371e+00,  1.10330639e+00,  4.81779922e+00,  2.27421001e+00,\n",
       "         2.24441708e+00, -1.82554999e+00,  4.87717916e+00,  9.73668664e-02,\n",
       "         1.88194589e+00,  2.33321948e+00, -2.55510780e+00, -1.12786499e+00,\n",
       "        -3.37060279e+00,  3.36361854e+00,  3.84395293e+00,  4.69281780e+00,\n",
       "        -1.99385219e+00, -3.96220450e+00, -9.63061089e+00,  1.68096451e+00,\n",
       "         2.12096875e+00,  3.81266112e+00, -2.27943199e+00,  2.40707160e+01,\n",
       "         5.83064228e+00,  6.16961987e+00, -5.34328951e+00, -2.48144625e+00,\n",
       "        -8.48291086e-01,  4.76332284e+00,  2.90493990e+00, -9.55041717e+00,\n",
       "         2.83889338e+00, -4.23304379e-01,  1.90060389e+00, -1.90060389e+00,\n",
       "         1.92687751e+00, -1.92687751e+00,  1.90060389e+00, -1.90060389e+00,\n",
       "         4.23304379e-01]),\n",
       " array([-5.49565457, -4.65208986, -4.51532393, ...,  0.32555413,\n",
       "         0.04462341, -0.22780373]),\n",
       " array([-0.70526016,  0.1715582 ,  0.55901578, ...,  0.18732613,\n",
       "        -1.21748897, -1.16181493])]"
      ]
     },
     "execution_count": 32,
     "metadata": {},
     "output_type": "execute_result"
    }
   ],
   "source": [
    "#利用小波分析进行特征分析（不讲，留为作业）\n",
    "\n",
    "#参数初始化\n",
    "inputfile= 'demo/data/leleccum.mat' #提取自Matlab的信号文件\n",
    "\n",
    "from scipy.io import loadmat #mat是MATLAB专用格式，需要用loadmat读取它\n",
    "mat = loadmat(inputfile)\n",
    "signal = mat['leleccum'][0]\n",
    "\n",
    "import pywt #导入PyWavelets\n",
    "coeffs = pywt.wavedec(signal, 'bior3.7', level = 5)\n",
    "#返回结果为level+1个数字，第一个数组为逼近系数数组，后面的依次是细节系数数组\n",
    "coeffs"
   ]
  },
  {
   "cell_type": "markdown",
   "metadata": {},
   "source": [
    "### 4.4.2 数值规约\n",
    "\n",
    "对大规模数据库内容进行复杂的数据分析通常需要耗费大量的时间。数据规约技术用于帮助从原有庞大数据集中获得一个精简的数据集合，并使用这一精简数据集保持原有数据集的完整性，这样在精简数据集上进行数据挖掘效率更高，并且挖掘出来的结果与使用原有数据集所获得的结果基本相同\n",
    "\n",
    "总结：用替代的、较小的数据表示形式换原始数据。\n",
    "\n",
    "方法可以是参数或者非参数的。\n",
    "\n",
    "- 对于参数方法而言，使用模型估计数据，使得一般只需要存放模型参数而不是实际数据（离群点需存放）。\n",
    "\n",
    "- 非参数方法包括：回归、直方图、聚类、抽样等。\n",
    "\n",
    "(1)回归或对数线性模型\n",
    "\n",
    "    多元线性回归：\n",
    "\n",
    "        原理：通过模型建立属性间的关系，并通过回归方程等进行拟合，求取相关的参数，这样在存取的时候只需要存取相关的模型参数，而不用存取实际数据，从而减少数据量。\n",
    "\n",
    "    对数线性模型：\n",
    "\n",
    "        原理：主要针对于近似离散的多维数据进行概率分布。详解见后面。\n",
    "\n",
    "（2）直方图\n",
    "\n",
    "    用一个连续的值域代替一个值作为一个桶（给定属性的连续区间）。\n",
    "\n",
    "    桶和属性的划分：\n",
    "\n",
    "        a.等宽。每个桶的宽度区间是一样的。\n",
    "\n",
    "        b.等频。每个桶的高度是一样的。\n",
    "\n",
    "        c.V最优。在桶的个数一定的条件下，具有最小方差的直方图即为V最优直方图。其中，直方图的方差是每个桶代表的原来值的加权和，其中权等于桶中值的个数。\n",
    "\n",
    "        d.MaxDiff。最大化差异度量。考虑每个相邻值（相邻值）之间的差，每个桶的属性值边界是x-1个最大差的对。x为用户指定的桶数。\n",
    "\n",
    "（3）聚类\n",
    "\n",
    "    对数据对象进行划分成群或簇，规则是是每个簇内数据对象尽量相似，簇之间的对象尽量相异。然后使用簇来替换原始的簇内数据对象。\n",
    "\n",
    "（4）抽样\n",
    "\n",
    "    a.s个样本无放回简单随机抽样\n",
    "\n",
    "    b.s个样本有放回简单随机抽样。\n",
    "\n",
    "    c.聚类抽样。先将N个元祖分成M个互补相交的簇，然后对其进行S个簇的简单随机抽样。\n",
    "\n",
    "    d.分层抽样。实际相当于先对原始数据进行直方图划分，然后对每一个桶进行抽样，在综合起来。\n",
    "\n",
    "    抽样规约的优点：得到样本的花费正比于样本集的大小，而不是总数据集的大小。抽样的复杂度仅随数据的维数成线性增长，其他的更多随数据的维数成指数增长。\n",
    "    \n",
    "\n",
    "## PYTHON主要数据预处理函数\n",
    "\n",
    "- interpolate 一维、高维数据插值  scipy\n",
    "- unique      去除数据中的重复元素  pandas/numpy\n",
    "- isnull      判断空值            pandas\n",
    "- notnull     判断是否非空值   pandas\n",
    "- PCA 对指标变量矩阵进行主成分分析 scikit-learn\n",
    "- random 生成随机值/矩阵 numpy"
   ]
  },
  {
   "cell_type": "code",
   "execution_count": null,
   "metadata": {},
   "outputs": [],
   "source": []
  }
 ],
 "metadata": {
  "kernelspec": {
   "display_name": "Python 3",
   "language": "python",
   "name": "python3"
  },
  "language_info": {
   "codemirror_mode": {
    "name": "ipython",
    "version": 3
   },
   "file_extension": ".py",
   "mimetype": "text/x-python",
   "name": "python",
   "nbconvert_exporter": "python",
   "pygments_lexer": "ipython3",
   "version": "3.6.5"
  }
 },
 "nbformat": 4,
 "nbformat_minor": 2
}
