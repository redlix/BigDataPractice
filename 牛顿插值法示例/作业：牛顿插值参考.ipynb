{
 "cells": [
  {
   "cell_type": "markdown",
   "metadata": {},
   "source": [
    "# 作业：牛顿插值参考\n"
   ]
  },
  {
   "cell_type": "code",
   "execution_count": 2,
   "metadata": {},
   "outputs": [
    {
     "data": {
      "image/png": "[encoded data removed]",
      "text/plain": [
       "<Figure size 432x288 with 1 Axes>"
      ]
     },
     "metadata": {},
     "output_type": "display_data"
    }
   ],
   "source": [
    "import matplotlib.pyplot as plt\n",
    " \n",
    "\"\"\"\n",
    "@brief:   计算n阶差商 f[x0, x1, x2 ... xn]\n",
    "@param:   xi   所有插值节点的横坐标集合                                                        o\n",
    "@param:   fi   所有插值节点的纵坐标集合                                                      /   \\\n",
    "@return:  返回xi的i阶差商(i为xi长度减1)                                                     o     o\n",
    "@notice:  a. 必须确保xi与fi长度相等                                                        / \\   / \\\n",
    "          b. 由于用到了递归，所以留意不要爆栈了.                                           o   o o   o\n",
    "          c. 递归减递归(每层递归包含两个递归函数), 每层递归次数呈二次幂增长，总次数是一个满二叉树的所有节点数量(所以极易栈溢出)                                                                                    \n",
    "\"\"\"\n",
    "def get_order_diff_quot(xi = [], fi = []):\n",
    "    if len(xi) > 2 and len(fi) > 2:\n",
    "        return (get_order_diff_quot(xi[:len(xi) - 1], fi[:len(fi) - 1]) - get_order_diff_quot(xi[1:len(xi)], fi[1:len(fi)])) / float(xi[0] - xi[-1])\n",
    "    return (fi[0] - fi[1]) / float(xi[0] - xi[1])\n",
    "     \n",
    " \n",
    " \n",
    " \n",
    "\"\"\"\n",
    "@brief:  获得Wi(x)函数;\n",
    "         Wi的含义举例 W1 = (x - x0); W2 = (x - x0)(x - x1); W3 = (x - x0)(x - x1)(x - x2)\n",
    "@param:  i  i阶(i次多项式)\n",
    "@param:  xi  所有插值节点的横坐标集合\n",
    "@return: 返回Wi(x)函数\n",
    "\"\"\"\n",
    "def get_Wi(i = 0, xi = []):\n",
    "    def Wi(x):\n",
    "        result = 1.0\n",
    "        for each in range(i):\n",
    "            result *= (x - xi[each])\n",
    "        return result\n",
    "    return Wi\n",
    "     \n",
    "     \n",
    "     \n",
    "     \n",
    "\"\"\"\n",
    "@brief: 获得牛顿插值函数\n",
    "@\n",
    "\"\"\"\n",
    "def get_Newton_inter(xi = [], fi = []):\n",
    "    def Newton_inter(x):\n",
    "        result = fi[0]\n",
    "        for i in range(2, len(xi)):\n",
    "            result += (get_order_diff_quot(xi[:i], fi[:i]) * get_Wi(i-1, xi)(x))\n",
    "        return result\n",
    "    return Newton_inter\n",
    "     \n",
    "         \n",
    " \n",
    "\"\"\"\n",
    "demo:\n",
    "\"\"\"\n",
    "if __name__ == '__main__':  \n",
    " \n",
    "    '''插值节点, 这里用二次函数生成插值节点，每两个节点x轴距离位10 '''\n",
    "    sr_x = [i for i in range(-50, 51, 10)]\n",
    "    sr_fx = [i**2 for i in sr_x] \n",
    "     \n",
    "    Nx = get_Newton_inter(sr_x, sr_fx)            # 获得插值函数\n",
    "     \n",
    "    tmp_x = [i for i in range(-50, 51)]          # 测试用例\n",
    "    tmp_y = [Nx(i) for i in tmp_x]               # 根据插值函数获得测试用例的纵坐标\n",
    "        \n",
    "    ''' 画图 '''\n",
    "    plt.figure(\"I love china\")\n",
    "    ax1 = plt.subplot(111)\n",
    "    plt.sca(ax1)\n",
    "    plt.plot(sr_x, sr_fx, linestyle = '', marker='o', color='b')\n",
    "    plt.plot(tmp_x, tmp_y, linestyle = '--', color='r')\n",
    "    plt.show()"
   ]
  },
  {
   "cell_type": "code",
   "execution_count": null,
   "metadata": {},
   "outputs": [],
   "source": []
  }
 ],
 "metadata": {
  "kernelspec": {
   "display_name": "Python 3",
   "language": "python",
   "name": "python3"
  },
  "language_info": {
   "codemirror_mode": {
    "name": "ipython",
    "version": 3
   },
   "file_extension": ".py",
   "mimetype": "text/x-python",
   "name": "python",
   "nbconvert_exporter": "python",
   "pygments_lexer": "ipython3",
   "version": "3.7.3"
  }
 },
 "nbformat": 4,
 "nbformat_minor": 2
}
